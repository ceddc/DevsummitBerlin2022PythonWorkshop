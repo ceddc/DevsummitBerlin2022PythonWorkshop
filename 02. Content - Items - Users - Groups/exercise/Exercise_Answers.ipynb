{
 "cells": [
  {
   "cell_type": "markdown",
   "metadata": {},
   "source": [
    "## Exercise\n",
    "As a recap of what we've seen, \n",
    "\n",
    "Please connect to the Enterprise system with the credential provided.\n"
   ]
  },
  {
   "cell_type": "markdown",
   "metadata": {},
   "source": [
    "### List your user groups"
   ]
  },
  {
   "cell_type": "code",
   "execution_count": null,
   "metadata": {},
   "outputs": [],
   "source": []
  },
  {
   "cell_type": "code",
   "execution_count": 23,
   "metadata": {},
   "outputs": [
    {
     "name": "stdout",
     "output_type": "stream",
     "text": [
      "[<Group title:\"students\" owner:portaladmin>, <Group title:\"Utility Users\" owner:portaladmin>, <Group title:\"test Core Team\" owner:portaladmin>, <Group title:\"Survey123 Samples\" owner:portaladmin>, <Group title:\"Survey123 Community\" owner:portaladmin>, <Group title:\"Survey123 Templates\" owner:portaladmin>, <Group title:\"2022 Devsummit group\" owner:portaladmin>, <Group title:\"test Content\" owner:portaladmin>, <Group title:\"Also group2\" owner:portaladmin>, <Group title:\"notagroup\" owner:portaladmin>, <Group title:\"Devsummit\" owner:portaladmin>, <Group title:\"testgroup2\" owner:portaladmin>, <Group title:\"Second Group\" owner:portaladmin>, <Group title:\"Featured Maps and Apps\" owner:portaladmin>]\n"
     ]
    },
    {
     "data": {
      "text/html": [
       "<div class=\"9item_container\" style=\"height: auto; overflow: hidden; border: 1px solid #cfcfcf; border-radius: 2px; background: #f6fafa; line-height: 1.21429em; padding: 10px;\">\n",
       "                    <div class=\"item_left\" style=\"width: 210px; float: left;\">\n",
       "                       <a href='https://arcgis.ceddc.dev/portal/home/group.html?id=151b7577ce504aaeac1a2253c6b048ce' target='_blank'>\n",
       "                        <img src='https://arcgis.ceddc.dev/portal/home/images/group-no-image.png' class=\"itemThumbnail\">\n",
       "                       </a>\n",
       "                    </div>\n",
       "\n",
       "                    <div class=\"item_right\" style=\"float: none; width: auto; overflow: hidden;\">\n",
       "                        <a href='https://arcgis.ceddc.dev/portal/home/group.html?id=151b7577ce504aaeac1a2253c6b048ce' target='_blank'><b>students</b>\n",
       "                        </a>\n",
       "                        <br/>\n",
       "                        <br/><b>Summary</b>: Share your data here\n",
       "                        <br/><b>Description</b>: Group to share your data\n",
       "                        <br/><b>Owner</b>: portaladmin\n",
       "                        <br/><b>Created</b>: November 12, 2022\n",
       "\n",
       "                    </div>\n",
       "                </div>\n",
       "                "
      ],
      "text/plain": [
       "<Group title:\"students\" owner:portaladmin>"
      ]
     },
     "metadata": {},
     "output_type": "display_data"
    },
    {
     "data": {
      "text/html": [
       "<div class=\"9item_container\" style=\"height: auto; overflow: hidden; border: 1px solid #cfcfcf; border-radius: 2px; background: #f6fafa; line-height: 1.21429em; padding: 10px;\">\n",
       "                    <div class=\"item_left\" style=\"width: 210px; float: left;\">\n",
       "                       <a href='https://arcgis.ceddc.dev/portal/home/group.html?id=2040fce76cee429c8b80bd0f35c2e2e7' target='_blank'>\n",
       "                        <img src='https://arcgis.ceddc.dev/portal/home/images/group-no-image.png' class=\"itemThumbnail\">\n",
       "                       </a>\n",
       "                    </div>\n",
       "\n",
       "                    <div class=\"item_right\" style=\"float: none; width: auto; overflow: hidden;\">\n",
       "                        <a href='https://arcgis.ceddc.dev/portal/home/group.html?id=2040fce76cee429c8b80bd0f35c2e2e7' target='_blank'><b>Utility Users</b>\n",
       "                        </a>\n",
       "                        <br/>\n",
       "                        <br/><b>Summary</b>: Share your data here\n",
       "                        <br/><b>Description</b>: Group to share your data\n",
       "                        <br/><b>Owner</b>: portaladmin\n",
       "                        <br/><b>Created</b>: November 12, 2022\n",
       "\n",
       "                    </div>\n",
       "                </div>\n",
       "                "
      ],
      "text/plain": [
       "<Group title:\"Utility Users\" owner:portaladmin>"
      ]
     },
     "metadata": {},
     "output_type": "display_data"
    },
    {
     "data": {
      "text/html": [
       "<div class=\"9item_container\" style=\"height: auto; overflow: hidden; border: 1px solid #cfcfcf; border-radius: 2px; background: #f6fafa; line-height: 1.21429em; padding: 10px;\">\n",
       "                    <div class=\"item_left\" style=\"width: 210px; float: left;\">\n",
       "                       <a href='https://arcgis.ceddc.dev/portal/home/group.html?id=208202547c924bcab9a245f405c5dee0' target='_blank'>\n",
       "                        <img src='https://arcgis.ceddc.dev/portal/home/images/group-no-image.png' class=\"itemThumbnail\">\n",
       "                       </a>\n",
       "                    </div>\n",
       "\n",
       "                    <div class=\"item_right\" style=\"float: none; width: auto; overflow: hidden;\">\n",
       "                        <a href='https://arcgis.ceddc.dev/portal/home/group.html?id=208202547c924bcab9a245f405c5dee0' target='_blank'><b>test Core Team</b>\n",
       "                        </a>\n",
       "                        <br/>\n",
       "                        <br/><b>Summary</b>: Members of this group can create, edit, and manage the site, pages, and other content related to test.\n",
       "                        <br/><b>Description</b>: Adding members to the core team adds them to this group. These members are also added to the site's corresponding content group allowing them to edit and manage site content. This group is an update group which means your team members can update its contents. Other members of your ArcGIS Enterprise organization can see this group, but only your team can see what it includes and make changes to the content.<br /><br />If you have additional questions about the core team group, please see Esri documentation or contact support.<br /><br /><strong>DO NOT DELETE THIS GROUP.</strong>\n",
       "                        <br/><b>Owner</b>: portaladmin\n",
       "                        <br/><b>Created</b>: February 15, 2022\n",
       "\n",
       "                    </div>\n",
       "                </div>\n",
       "                "
      ],
      "text/plain": [
       "<Group title:\"test Core Team\" owner:portaladmin>"
      ]
     },
     "metadata": {},
     "output_type": "display_data"
    },
    {
     "data": {
      "text/html": [
       "<div class=\"9item_container\" style=\"height: auto; overflow: hidden; border: 1px solid #cfcfcf; border-radius: 2px; background: #f6fafa; line-height: 1.21429em; padding: 10px;\">\n",
       "                    <div class=\"item_left\" style=\"width: 210px; float: left;\">\n",
       "                       <a href='https://arcgis.ceddc.dev/portal/home/group.html?id=21179ee29c4e473286363be6688f13f8' target='_blank'>\n",
       "                        <img src='https://arcgis.ceddc.dev/portal/home/images/group-no-image.png' class=\"itemThumbnail\">\n",
       "                       </a>\n",
       "                    </div>\n",
       "\n",
       "                    <div class=\"item_right\" style=\"float: none; width: auto; overflow: hidden;\">\n",
       "                        <a href='https://arcgis.ceddc.dev/portal/home/group.html?id=21179ee29c4e473286363be6688f13f8' target='_blank'><b>Survey123 Samples</b>\n",
       "                        </a>\n",
       "                        <br/>\n",
       "                        <br/><b>Summary</b>: Sample forms showing Survey123 functionality\n",
       "                        <br/><b>Description</b>: None\n",
       "                        <br/><b>Owner</b>: portaladmin\n",
       "                        <br/><b>Created</b>: March 10, 2021\n",
       "\n",
       "                    </div>\n",
       "                </div>\n",
       "                "
      ],
      "text/plain": [
       "<Group title:\"Survey123 Samples\" owner:portaladmin>"
      ]
     },
     "metadata": {},
     "output_type": "display_data"
    },
    {
     "data": {
      "text/html": [
       "<div class=\"9item_container\" style=\"height: auto; overflow: hidden; border: 1px solid #cfcfcf; border-radius: 2px; background: #f6fafa; line-height: 1.21429em; padding: 10px;\">\n",
       "                    <div class=\"item_left\" style=\"width: 210px; float: left;\">\n",
       "                       <a href='https://arcgis.ceddc.dev/portal/home/group.html?id=223f28f7d42e449d970140c66e0e9efc' target='_blank'>\n",
       "                        <img src='https://arcgis.ceddc.dev/portal/home/images/group-no-image.png' class=\"itemThumbnail\">\n",
       "                       </a>\n",
       "                    </div>\n",
       "\n",
       "                    <div class=\"item_right\" style=\"float: none; width: auto; overflow: hidden;\">\n",
       "                        <a href='https://arcgis.ceddc.dev/portal/home/group.html?id=223f28f7d42e449d970140c66e0e9efc' target='_blank'><b>Survey123 Community</b>\n",
       "                        </a>\n",
       "                        <br/>\n",
       "                        <br/><b>Summary</b>: Form templates contributed by Survey123 users\n",
       "                        <br/><b>Description</b>: None\n",
       "                        <br/><b>Owner</b>: portaladmin\n",
       "                        <br/><b>Created</b>: March 10, 2021\n",
       "\n",
       "                    </div>\n",
       "                </div>\n",
       "                "
      ],
      "text/plain": [
       "<Group title:\"Survey123 Community\" owner:portaladmin>"
      ]
     },
     "metadata": {},
     "output_type": "display_data"
    },
    {
     "data": {
      "text/html": [
       "<div class=\"9item_container\" style=\"height: auto; overflow: hidden; border: 1px solid #cfcfcf; border-radius: 2px; background: #f6fafa; line-height: 1.21429em; padding: 10px;\">\n",
       "                    <div class=\"item_left\" style=\"width: 210px; float: left;\">\n",
       "                       <a href='https://arcgis.ceddc.dev/portal/home/group.html?id=23500999b04d4c0c9133875e1ce1b250' target='_blank'>\n",
       "                        <img src='https://arcgis.ceddc.dev/portal/home/images/group-no-image.png' class=\"itemThumbnail\">\n",
       "                       </a>\n",
       "                    </div>\n",
       "\n",
       "                    <div class=\"item_right\" style=\"float: none; width: auto; overflow: hidden;\">\n",
       "                        <a href='https://arcgis.ceddc.dev/portal/home/group.html?id=23500999b04d4c0c9133875e1ce1b250' target='_blank'><b>Survey123 Templates</b>\n",
       "                        </a>\n",
       "                        <br/>\n",
       "                        <br/><b>Summary</b>: Survey123 blank templates\n",
       "                        <br/><b>Description</b>: None\n",
       "                        <br/><b>Owner</b>: portaladmin\n",
       "                        <br/><b>Created</b>: March 10, 2021\n",
       "\n",
       "                    </div>\n",
       "                </div>\n",
       "                "
      ],
      "text/plain": [
       "<Group title:\"Survey123 Templates\" owner:portaladmin>"
      ]
     },
     "metadata": {},
     "output_type": "display_data"
    },
    {
     "data": {
      "text/html": [
       "<div class=\"9item_container\" style=\"height: auto; overflow: hidden; border: 1px solid #cfcfcf; border-radius: 2px; background: #f6fafa; line-height: 1.21429em; padding: 10px;\">\n",
       "                    <div class=\"item_left\" style=\"width: 210px; float: left;\">\n",
       "                       <a href='https://arcgis.ceddc.dev/portal/home/group.html?id=30b251dd9d304a2abdc9406387b12762' target='_blank'>\n",
       "                        <img src='data:image/png;base64,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' ' class=\"itemThumbnail\">\n",
       "                       </a>\n",
       "                    </div>\n",
       "\n",
       "                    <div class=\"item_right\" style=\"float: none; width: auto; overflow: hidden;\">\n",
       "                        <a href='https://arcgis.ceddc.dev/portal/home/group.html?id=30b251dd9d304a2abdc9406387b12762' target='_blank'><b>2022 Devsummit group</b>\n",
       "                        </a>\n",
       "                        <br/>\n",
       "                        <br/><b>Summary</b>: Share your data here\n",
       "                        <br/><b>Description</b>: Group to share your data\n",
       "                        <br/><b>Owner</b>: portaladmin\n",
       "                        <br/><b>Created</b>: November 13, 2022\n",
       "\n",
       "                    </div>\n",
       "                </div>\n",
       "                "
      ],
      "text/plain": [
       "<Group title:\"2022 Devsummit group\" owner:portaladmin>"
      ]
     },
     "metadata": {},
     "output_type": "display_data"
    },
    {
     "data": {
      "text/html": [
       "<div class=\"9item_container\" style=\"height: auto; overflow: hidden; border: 1px solid #cfcfcf; border-radius: 2px; background: #f6fafa; line-height: 1.21429em; padding: 10px;\">\n",
       "                    <div class=\"item_left\" style=\"width: 210px; float: left;\">\n",
       "                       <a href='https://arcgis.ceddc.dev/portal/home/group.html?id=5617d07638164fc1b7e1f0b5aaaf0ec5' target='_blank'>\n",
       "                        <img src='https://arcgis.ceddc.dev/portal/home/images/group-no-image.png' class=\"itemThumbnail\">\n",
       "                       </a>\n",
       "                    </div>\n",
       "\n",
       "                    <div class=\"item_right\" style=\"float: none; width: auto; overflow: hidden;\">\n",
       "                        <a href='https://arcgis.ceddc.dev/portal/home/group.html?id=5617d07638164fc1b7e1f0b5aaaf0ec5' target='_blank'><b>test Content</b>\n",
       "                        </a>\n",
       "                        <br/>\n",
       "                        <br/><b>Summary</b>: Applications, maps, data, etc. shared with this group generates the test content catalog.\n",
       "                        <br/><b>Description</b>: Use this group to organize the items that you want to share as part of your site. Shared items become available in your Site's search results and only people who have access to these items will be able to find them. Members of the core team get access to shared items and can update them at any time. Certain cards, like the Gallery card, will automatically populate with these shared items so that you don't have to search for them when choosing what you want to display on your site.<br /><br />Contact support with any questions related to this group or content management for your site.<br /><br /><strong>DO NOT DELETE THIS GROUP.</strong>\n",
       "                        <br/><b>Owner</b>: portaladmin\n",
       "                        <br/><b>Created</b>: February 15, 2022\n",
       "\n",
       "                    </div>\n",
       "                </div>\n",
       "                "
      ],
      "text/plain": [
       "<Group title:\"test Content\" owner:portaladmin>"
      ]
     },
     "metadata": {},
     "output_type": "display_data"
    },
    {
     "data": {
      "text/html": [
       "<div class=\"9item_container\" style=\"height: auto; overflow: hidden; border: 1px solid #cfcfcf; border-radius: 2px; background: #f6fafa; line-height: 1.21429em; padding: 10px;\">\n",
       "                    <div class=\"item_left\" style=\"width: 210px; float: left;\">\n",
       "                       <a href='https://arcgis.ceddc.dev/portal/home/group.html?id=85548b44be11438c8cabecf8a9511324' target='_blank'>\n",
       "                        <img src='https://arcgis.ceddc.dev/portal/home/images/group-no-image.png' class=\"itemThumbnail\">\n",
       "                       </a>\n",
       "                    </div>\n",
       "\n",
       "                    <div class=\"item_right\" style=\"float: none; width: auto; overflow: hidden;\">\n",
       "                        <a href='https://arcgis.ceddc.dev/portal/home/group.html?id=85548b44be11438c8cabecf8a9511324' target='_blank'><b>Also group2</b>\n",
       "                        </a>\n",
       "                        <br/>\n",
       "                        <br/><b>Summary</b>: None\n",
       "                        <br/><b>Description</b>: None\n",
       "                        <br/><b>Owner</b>: portaladmin\n",
       "                        <br/><b>Created</b>: December 09, 2020\n",
       "\n",
       "                    </div>\n",
       "                </div>\n",
       "                "
      ],
      "text/plain": [
       "<Group title:\"Also group2\" owner:portaladmin>"
      ]
     },
     "metadata": {},
     "output_type": "display_data"
    },
    {
     "data": {
      "text/html": [
       "<div class=\"9item_container\" style=\"height: auto; overflow: hidden; border: 1px solid #cfcfcf; border-radius: 2px; background: #f6fafa; line-height: 1.21429em; padding: 10px;\">\n",
       "                    <div class=\"item_left\" style=\"width: 210px; float: left;\">\n",
       "                       <a href='https://arcgis.ceddc.dev/portal/home/group.html?id=ae1db6f2e94c448480c83cc9c14196aa' target='_blank'>\n",
       "                        <img src='https://arcgis.ceddc.dev/portal/home/images/group-no-image.png' class=\"itemThumbnail\">\n",
       "                       </a>\n",
       "                    </div>\n",
       "\n",
       "                    <div class=\"item_right\" style=\"float: none; width: auto; overflow: hidden;\">\n",
       "                        <a href='https://arcgis.ceddc.dev/portal/home/group.html?id=ae1db6f2e94c448480c83cc9c14196aa' target='_blank'><b>notagroup</b>\n",
       "                        </a>\n",
       "                        <br/>\n",
       "                        <br/><b>Summary</b>: notagroup\n",
       "                        <br/><b>Description</b>: None\n",
       "                        <br/><b>Owner</b>: portaladmin\n",
       "                        <br/><b>Created</b>: December 09, 2020\n",
       "\n",
       "                    </div>\n",
       "                </div>\n",
       "                "
      ],
      "text/plain": [
       "<Group title:\"notagroup\" owner:portaladmin>"
      ]
     },
     "metadata": {},
     "output_type": "display_data"
    },
    {
     "data": {
      "text/html": [
       "<div class=\"9item_container\" style=\"height: auto; overflow: hidden; border: 1px solid #cfcfcf; border-radius: 2px; background: #f6fafa; line-height: 1.21429em; padding: 10px;\">\n",
       "                    <div class=\"item_left\" style=\"width: 210px; float: left;\">\n",
       "                       <a href='https://arcgis.ceddc.dev/portal/home/group.html?id=cd38f28aab144dec88ef21e812f97f50' target='_blank'>\n",
       "                        <img src='https://arcgis.ceddc.dev/portal/home/images/group-no-image.png' class=\"itemThumbnail\">\n",
       "                       </a>\n",
       "                    </div>\n",
       "\n",
       "                    <div class=\"item_right\" style=\"float: none; width: auto; overflow: hidden;\">\n",
       "                        <a href='https://arcgis.ceddc.dev/portal/home/group.html?id=cd38f28aab144dec88ef21e812f97f50' target='_blank'><b>Devsummit</b>\n",
       "                        </a>\n",
       "                        <br/>\n",
       "                        <br/><b>Summary</b>: Devsummit\n",
       "                        <br/><b>Description</b>: None\n",
       "                        <br/><b>Owner</b>: portaladmin\n",
       "                        <br/><b>Created</b>: November 12, 2022\n",
       "\n",
       "                    </div>\n",
       "                </div>\n",
       "                "
      ],
      "text/plain": [
       "<Group title:\"Devsummit\" owner:portaladmin>"
      ]
     },
     "metadata": {},
     "output_type": "display_data"
    },
    {
     "data": {
      "text/html": [
       "<div class=\"9item_container\" style=\"height: auto; overflow: hidden; border: 1px solid #cfcfcf; border-radius: 2px; background: #f6fafa; line-height: 1.21429em; padding: 10px;\">\n",
       "                    <div class=\"item_left\" style=\"width: 210px; float: left;\">\n",
       "                       <a href='https://arcgis.ceddc.dev/portal/home/group.html?id=e2c8bb5940f546aa952c8cb1a233eab4' target='_blank'>\n",
       "                        <img src='https://arcgis.ceddc.dev/portal/home/images/group-no-image.png' class=\"itemThumbnail\">\n",
       "                       </a>\n",
       "                    </div>\n",
       "\n",
       "                    <div class=\"item_right\" style=\"float: none; width: auto; overflow: hidden;\">\n",
       "                        <a href='https://arcgis.ceddc.dev/portal/home/group.html?id=e2c8bb5940f546aa952c8cb1a233eab4' target='_blank'><b>testgroup2</b>\n",
       "                        </a>\n",
       "                        <br/>\n",
       "                        <br/><b>Summary</b>: None\n",
       "                        <br/><b>Description</b>: None\n",
       "                        <br/><b>Owner</b>: portaladmin\n",
       "                        <br/><b>Created</b>: December 09, 2020\n",
       "\n",
       "                    </div>\n",
       "                </div>\n",
       "                "
      ],
      "text/plain": [
       "<Group title:\"testgroup2\" owner:portaladmin>"
      ]
     },
     "metadata": {},
     "output_type": "display_data"
    },
    {
     "data": {
      "text/html": [
       "<div class=\"9item_container\" style=\"height: auto; overflow: hidden; border: 1px solid #cfcfcf; border-radius: 2px; background: #f6fafa; line-height: 1.21429em; padding: 10px;\">\n",
       "                    <div class=\"item_left\" style=\"width: 210px; float: left;\">\n",
       "                       <a href='https://arcgis.ceddc.dev/portal/home/group.html?id=ecc070814ea742dba2faae465c9b0fca' target='_blank'>\n",
       "                        <img src='https://arcgis.ceddc.dev/portal/home/images/group-no-image.png' class=\"itemThumbnail\">\n",
       "                       </a>\n",
       "                    </div>\n",
       "\n",
       "                    <div class=\"item_right\" style=\"float: none; width: auto; overflow: hidden;\">\n",
       "                        <a href='https://arcgis.ceddc.dev/portal/home/group.html?id=ecc070814ea742dba2faae465c9b0fca' target='_blank'><b>Second Group</b>\n",
       "                        </a>\n",
       "                        <br/>\n",
       "                        <br/><b>Summary</b>: Share your data here\n",
       "                        <br/><b>Description</b>: Group to share your data\n",
       "                        <br/><b>Owner</b>: portaladmin\n",
       "                        <br/><b>Created</b>: November 12, 2022\n",
       "\n",
       "                    </div>\n",
       "                </div>\n",
       "                "
      ],
      "text/plain": [
       "<Group title:\"Second Group\" owner:portaladmin>"
      ]
     },
     "metadata": {},
     "output_type": "display_data"
    },
    {
     "data": {
      "text/html": [
       "<div class=\"9item_container\" style=\"height: auto; overflow: hidden; border: 1px solid #cfcfcf; border-radius: 2px; background: #f6fafa; line-height: 1.21429em; padding: 10px;\">\n",
       "                    <div class=\"item_left\" style=\"width: 210px; float: left;\">\n",
       "                       <a href='https://arcgis.ceddc.dev/portal/home/group.html?id=fc87fad36e6c448985792d3fee8d52b9' target='_blank'>\n",
       "                        <img src='https://arcgis.ceddc.dev/portal/home/images/group-no-image.png' class=\"itemThumbnail\">\n",
       "                       </a>\n",
       "                    </div>\n",
       "\n",
       "                    <div class=\"item_right\" style=\"float: none; width: auto; overflow: hidden;\">\n",
       "                        <a href='https://arcgis.ceddc.dev/portal/home/group.html?id=fc87fad36e6c448985792d3fee8d52b9' target='_blank'><b>Featured Maps and Apps</b>\n",
       "                        </a>\n",
       "                        <br/>\n",
       "                        <br/><b>Summary</b>: None\n",
       "                        <br/><b>Description</b>: This group contains featured maps and apps.\n",
       "                        <br/><b>Owner</b>: portaladmin\n",
       "                        <br/><b>Created</b>: November 21, 2020\n",
       "\n",
       "                    </div>\n",
       "                </div>\n",
       "                "
      ],
      "text/plain": [
       "<Group title:\"Featured Maps and Apps\" owner:portaladmin>"
      ]
     },
     "metadata": {},
     "output_type": "display_data"
    }
   ],
   "source": [
    "from arcgis.gis import GIS\n",
    "gis = GIS(profile=\"your_enterprise_profile\")\n",
    "\n",
    "gis.users.me.groups\n",
    "\n",
    "\n",
    "\n",
    "\n",
    "\n",
    "from IPython.display import display\n",
    "for group in gis.users.me.groups:\n",
    "    display(group)"
   ]
  },
  {
   "cell_type": "code",
   "execution_count": null,
   "metadata": {},
   "outputs": [],
   "source": []
  },
  {
   "cell_type": "code",
   "execution_count": 20,
   "metadata": {},
   "outputs": [
    {
     "data": {
      "text/plain": [
       "[<Group title:\"students\" owner:portaladmin>,\n",
       " <Group title:\"2022 Devsummit group\" owner:portaladmin>,\n",
       " <Group title:\"Second Group\" owner:portaladmin>]"
      ]
     },
     "execution_count": 20,
     "metadata": {},
     "output_type": "execute_result"
    }
   ],
   "source": [
    "stu1.groups"
   ]
  },
  {
   "cell_type": "markdown",
   "metadata": {},
   "source": [
    "### List the organisation groups, and find the group \"Devsummit\""
   ]
  },
  {
   "cell_type": "code",
   "execution_count": 33,
   "metadata": {},
   "outputs": [
    {
     "data": {
      "text/html": [
       "<div class=\"9item_container\" style=\"height: auto; overflow: hidden; border: 1px solid #cfcfcf; border-radius: 2px; background: #f6fafa; line-height: 1.21429em; padding: 10px;\">\n",
       "                    <div class=\"item_left\" style=\"width: 210px; float: left;\">\n",
       "                       <a href='https://arcgis.ceddc.dev/portal/home/group.html?id=cd38f28aab144dec88ef21e812f97f50' target='_blank'>\n",
       "                        <img src='https://arcgis.ceddc.dev/portal/home/images/group-no-image.png' class=\"itemThumbnail\">\n",
       "                       </a>\n",
       "                    </div>\n",
       "\n",
       "                    <div class=\"item_right\" style=\"float: none; width: auto; overflow: hidden;\">\n",
       "                        <a href='https://arcgis.ceddc.dev/portal/home/group.html?id=cd38f28aab144dec88ef21e812f97f50' target='_blank'><b>Devsummit</b>\n",
       "                        </a>\n",
       "                        <br/>\n",
       "                        <br/><b>Summary</b>: Devsummit\n",
       "                        <br/><b>Description</b>: None\n",
       "                        <br/><b>Owner</b>: portaladmin\n",
       "                        <br/><b>Created</b>: November 12, 2022\n",
       "\n",
       "                    </div>\n",
       "                </div>\n",
       "                "
      ],
      "text/plain": [
       "<Group title:\"Devsummit\" owner:portaladmin>"
      ]
     },
     "execution_count": 33,
     "metadata": {},
     "output_type": "execute_result"
    }
   ],
   "source": [
    "devsummit = gis.groups.search(\"'Devsummit'\")[1]\n",
    "devsummit"
   ]
  },
  {
   "cell_type": "markdown",
   "metadata": {},
   "source": [
    "### Add your user to the devsummit group"
   ]
  },
  {
   "cell_type": "code",
   "execution_count": 9,
   "metadata": {},
   "outputs": [
    {
     "data": {
      "text/plain": [
       "{'notAdded': ['portaladmin']}"
      ]
     },
     "execution_count": 9,
     "metadata": {},
     "output_type": "execute_result"
    }
   ],
   "source": [
    "me = gis.users.me\n",
    "devsummit.add_users([\"portaladmin\"])\n"
   ]
  },
  {
   "cell_type": "markdown",
   "metadata": {},
   "source": [
    "###  BONUS _ Publish a dataset : fgdb.zip\n",
    "Note : On ArcGIS , you need to zip file geodatabase to publish them.\n",
    "- Add your username in the title"
   ]
  },
  {
   "cell_type": "code",
   "execution_count": 24,
   "metadata": {},
   "outputs": [],
   "source": [
    "gdb_path = r\"data/fgdb.zip\"\n",
    "gdb_properties={'title':'gdb_portaladmin',\n",
    "'type':'File Geodatabase',\n",
    "                'description':'gdb',\n",
    "                'tags':'gdb'}\n",
    "\n",
    "eartgdb_items = gis.content.add(item_properties=gdb_properties, data=gdb_path)"
   ]
  },
  {
   "cell_type": "code",
   "execution_count": 25,
   "metadata": {},
   "outputs": [
    {
     "data": {
      "text/html": [
       "<div class=\"item_container\" style=\"height: auto; overflow: hidden; border: 1px solid #cfcfcf; border-radius: 2px; background: #f6fafa; line-height: 1.21429em; padding: 10px;\">\n",
       "                    <div class=\"item_left\" style=\"width: 210px; float: left;\">\n",
       "                       <a href='https://arcgis.ceddc.dev/portal/home/item.html?id=dacfcb5e26554224984587d4b7d24a3b' target='_blank'>\n",
       "                        <img src='https://arcgis.ceddc.dev/portal/portalimages/desktopapp.png' class=\"itemThumbnail\">\n",
       "                       </a>\n",
       "                    </div>\n",
       "\n",
       "                    <div class=\"item_right\"     style=\"float: none; width: auto; overflow: hidden;\">\n",
       "                        <a href='https://arcgis.ceddc.dev/portal/home/item.html?id=dacfcb5e26554224984587d4b7d24a3b' target='_blank'><b>gdb_portaladmin</b>\n",
       "                        </a>\n",
       "                        <br/><img src='https://arcgis.ceddc.dev/portal/home/js/jsapi/esri/css/images/item_type_icons/layers16.png' style=\"vertical-align:middle;\">File Geodatabase by portaladmin\n",
       "                        <br/>Last Modified: November 13, 2022\n",
       "                        <br/>0 comments, 0 views\n",
       "                    </div>\n",
       "                </div>\n",
       "                "
      ],
      "text/plain": [
       "<Item title:\"gdb_portaladmin\" type:File Geodatabase owner:portaladmin>"
      ]
     },
     "execution_count": 25,
     "metadata": {},
     "output_type": "execute_result"
    }
   ],
   "source": [
    "eartgdb_items"
   ]
  },
  {
   "cell_type": "code",
   "execution_count": 26,
   "metadata": {},
   "outputs": [
    {
     "data": {
      "text/html": [
       "<div class=\"item_container\" style=\"height: auto; overflow: hidden; border: 1px solid #cfcfcf; border-radius: 2px; background: #f6fafa; line-height: 1.21429em; padding: 10px;\">\n",
       "                    <div class=\"item_left\" style=\"width: 210px; float: left;\">\n",
       "                       <a href='https://arcgis.ceddc.dev/portal/home/item.html?id=3d5ee41e1f6d49ff96b31d0fb571afa3' target='_blank'>\n",
       "                        <img src='https://arcgis.ceddc.dev/portal/portalimages/desktopapp.png' class=\"itemThumbnail\">\n",
       "                       </a>\n",
       "                    </div>\n",
       "\n",
       "                    <div class=\"item_right\"     style=\"float: none; width: auto; overflow: hidden;\">\n",
       "                        <a href='https://arcgis.ceddc.dev/portal/home/item.html?id=3d5ee41e1f6d49ff96b31d0fb571afa3' target='_blank'><b>gdb_portaladmin</b>\n",
       "                        </a>\n",
       "                        <br/><img src='https://arcgis.ceddc.dev/portal/home/js/jsapi/esri/css/images/item_type_icons/featureshosted16.png' style=\"vertical-align:middle;\">Feature Layer Collection by portaladmin\n",
       "                        <br/>Last Modified: November 13, 2022\n",
       "                        <br/>0 comments, 0 views\n",
       "                    </div>\n",
       "                </div>\n",
       "                "
      ],
      "text/plain": [
       "<Item title:\"gdb_portaladmin\" type:Feature Layer Collection owner:portaladmin>"
      ]
     },
     "execution_count": 26,
     "metadata": {},
     "output_type": "execute_result"
    }
   ],
   "source": [
    "eartgdb_items.publish()"
   ]
  },
  {
   "cell_type": "markdown",
   "metadata": {},
   "source": [
    "### Bonus (comme back if you have time) - Share this dataset with the devsummit group and add it on a map"
   ]
  },
  {
   "cell_type": "code",
   "execution_count": null,
   "metadata": {},
   "outputs": [],
   "source": []
  },
  {
   "cell_type": "markdown",
   "metadata": {},
   "source": [
    "### Clone the following public item from ArcGIS Online to your Enterprise system\n",
    "5b73cc350009478e81676f87a13c7976\n",
    "\n",
    "Process : get the item, connect to the target, and clone the item\n",
    "\n",
    "What have been cloned ?"
   ]
  },
  {
   "cell_type": "code",
   "execution_count": 34,
   "metadata": {},
   "outputs": [],
   "source": [
    "agol = GIS()\n",
    "item = agol.content.get(\"5b73cc350009478e81676f87a13c7976\")\n"
   ]
  },
  {
   "cell_type": "code",
   "execution_count": 36,
   "metadata": {},
   "outputs": [
    {
     "data": {
      "text/plain": [
       "[<Item title:\"Waze_esri_Incidents_geneve_avril_01\" type:Feature Layer Collection owner:portaladmin>,\n",
       " <Item title:\"Trafic dashboard map FR\" type:Web Map owner:portaladmin>,\n",
       " <Item title:\"FR : Dashboard trafic \" type:Dashboard owner:portaladmin>]"
      ]
     },
     "execution_count": 36,
     "metadata": {},
     "output_type": "execute_result"
    }
   ],
   "source": [
    "gis.content.clone_items([item],preserve_item_id=True,search_existing_items=False)"
   ]
  }
 ],
 "metadata": {
  "kernelspec": {
   "display_name": "Python 3.9.11 64-bit",
   "language": "python",
   "name": "python3"
  },
  "language_info": {
   "codemirror_mode": {
    "name": "ipython",
    "version": 3
   },
   "file_extension": ".py",
   "mimetype": "text/x-python",
   "name": "python",
   "nbconvert_exporter": "python",
   "pygments_lexer": "ipython3",
   "version": "3.9.11"
  },
  "orig_nbformat": 4,
  "vscode": {
   "interpreter": {
    "hash": "fe8c5fb7e40788822c7f73d608ac244ced829a0e6d44553add5504e0489f009a"
   }
  }
 },
 "nbformat": 4,
 "nbformat_minor": 2
}
