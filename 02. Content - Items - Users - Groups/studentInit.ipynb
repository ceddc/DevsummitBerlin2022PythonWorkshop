{
 "cells": [
  {
   "cell_type": "code",
   "execution_count": 3,
   "metadata": {},
   "outputs": [
    {
     "data": {
      "text/html": [
       "GIS @ <a href=\"https://arcgis.ceddc.dev/portal\">https://arcgis.ceddc.dev/portal</a>"
      ],
      "text/plain": [
       "GIS @ https://arcgis.ceddc.dev/portal version:10.1"
      ]
     },
     "execution_count": 3,
     "metadata": {},
     "output_type": "execute_result"
    }
   ],
   "source": [
    "from arcgis import GIS\n",
    "gise = GIS(profile=\"your_enterprise_profile\")\n",
    "gise"
   ]
  },
  {
   "cell_type": "code",
   "execution_count": 8,
   "metadata": {},
   "outputs": [],
   "source": [
    "for i in range(1,15):\n",
    "    gise.users.create(username='student'+str(i),\n",
    "                             password=xxxx,\n",
    "                             firstname='stud'+str(i),\n",
    "                             lastname='stud'+str(i),\n",
    "                             email='namee@organization.com',\n",
    "                             role='org_admin',\n",
    "                             user_type='Creator')"
   ]
  },
  {
   "cell_type": "code",
   "execution_count": 11,
   "metadata": {},
   "outputs": [],
   "source": [
    "groups = [\"Second Group\",\"Utility Users\",\"students\"]\n",
    "for group in groups:\n",
    "    gise.groups.create(title=group,\n",
    "                                    tags = 'group',\n",
    "                                    description = 'Group to share your data',\n",
    "                                    snippet = 'Share your data here',\n",
    "                                    access = 'private',\n",
    "                                    is_invitation_only = 'True'\n",
    "                                    )"
   ]
  },
  {
   "cell_type": "code",
   "execution_count": 28,
   "metadata": {},
   "outputs": [
    {
     "data": {
      "text/plain": [
       "[<Group title:\"Second Group\" owner:portaladmin>]"
      ]
     },
     "execution_count": 28,
     "metadata": {},
     "output_type": "execute_result"
    }
   ],
   "source": [
    "gise.groups.search(\"Second Group\")"
   ]
  },
  {
   "cell_type": "code",
   "execution_count": 31,
   "metadata": {},
   "outputs": [],
   "source": [
    "group = gise.groups.search(\"students\")[0]\n",
    "for i in range(1,15):\n",
    "    group.add_users(['student'+str(i)])"
   ]
  }
 ],
 "metadata": {
  "kernelspec": {
   "display_name": "Python 3.9.11 64-bit",
   "language": "python",
   "name": "python3"
  },
  "language_info": {
   "codemirror_mode": {
    "name": "ipython",
    "version": 3
   },
   "file_extension": ".py",
   "mimetype": "text/x-python",
   "name": "python",
   "nbconvert_exporter": "python",
   "pygments_lexer": "ipython3",
   "version": "3.9.11"
  },
  "orig_nbformat": 4,
  "vscode": {
   "interpreter": {
    "hash": "fe8c5fb7e40788822c7f73d608ac244ced829a0e6d44553add5504e0489f009a"
   }
  }
 },
 "nbformat": 4,
 "nbformat_minor": 2
}
