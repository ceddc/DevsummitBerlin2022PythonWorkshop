{
 "cells": [
  {
   "cell_type": "markdown",
   "metadata": {},
   "source": [
    "# Administrating Portal and Server"
   ]
  },
  {
   "cell_type": "markdown",
   "metadata": {},
   "source": [
    "## Managing Online and Portal"
   ]
  },
  {
   "cell_type": "markdown",
   "metadata": {},
   "source": [
    "\n",
    "<img src=\"./img/portal.png\" width=50%/>\n",
    "\n",
    "- ArcGIS Online (AGOL)\n",
    "- Portal for ArcGIS"
   ]
  },
  {
   "cell_type": "markdown",
   "metadata": {},
   "source": [
    "### Administration Overview"
   ]
  },
  {
   "cell_type": "markdown",
   "metadata": {},
   "source": [
    "<img src=\"./img/gis.admin.png\"/>"
   ]
  },
  {
   "cell_type": "markdown",
   "metadata": {},
   "source": [
    "### Portal vs AGOL"
   ]
  },
  {
   "cell_type": "markdown",
   "metadata": {},
   "source": [
    "<h3>Organizational differences</h3>\n",
    "\n",
    "<table border=\"1\" class=\"dataframe\"><thead><tr style=\"text-align: right;\"><th>Function</th><th>ArcGIS Online</th><th>ArcGIS Enterprise</th></tr></thead><tbody><tr><td>collaborations</td><td>X</td><td>X</td></tr><tr><td>credits</td><td>X</td><td></td></tr><tr><td>federation</td><td></td><td>X</td></tr><tr><td>license</td><td>X</td><td>X</td></tr><tr><td>logs</td><td></td><td>X</td></tr><tr><td>machines</td><td></td><td>X</td></tr><tr><td>metadata</td><td>X</td><td>X</td></tr><tr><td>password_policy</td><td>X</td><td>X</td></tr><tr><td>security</td><td></td><td>X</td></tr><tr><td>server</td><td></td><td>X</td></tr><tr><td>site</td><td></td><td>X</td></tr><tr><td>system</td><td></td><td>X</td></tr><tr><td>ux</td><td>X</td><td>X</td></tr></tbody></table>\n",
    "\n",
    "Most properties on ArcGIS Online are available on ArcGIS Enterprise except 'credit reporting' because ArcGIS Enterprise does not consume credits.\n",
    "\n",
    "<blockquote><b>Note:</b> You need to log in using a named user account with administrator privileges. When you login, the API detects if you are an organizational administrator, then, the <b>GIS</b> object will ensure you gain access to the <b>admin</b> module.</blockquote>\n"
   ]
  },
  {
   "cell_type": "code",
   "execution_count": 4,
   "metadata": {},
   "outputs": [],
   "source": [
    "from arcgis.gis import GIS\n",
    "gis_agol = GIS(profile=\"adminProfile\")"
   ]
  },
  {
   "cell_type": "markdown",
   "metadata": {},
   "source": [
    "### Licensing "
   ]
  },
  {
   "cell_type": "markdown",
   "metadata": {},
   "source": [
    "- Supports assigning licenses for Esri premium apps\n",
    "- The licenses include: \n",
    "    + ArcGIS Pro, Navigator for ArcGIS, AppStudio for ArcGIS Standard, Drone2Map for ArcGIS, ArcGIS Business Analyst web app, ArcGIS Community Analyst, GeoPlanner for ArcGIS\n"
   ]
  },
  {
   "cell_type": "markdown",
   "metadata": {},
   "source": [
    "**Listing Licenses**"
   ]
  },
  {
   "cell_type": "code",
   "execution_count": 5,
   "metadata": {},
   "outputs": [
    {
     "data": {
      "text/plain": [
       "[<ArcGIS Insights License at https://esri-training.maps.arcgis.com/sharing/rest/>,\n",
       " <ArcGIS Pro License at https://esri-training.maps.arcgis.com/sharing/rest/>,\n",
       " <ArcGIS Drone2Map License at https://esri-training.maps.arcgis.com/sharing/rest/>,\n",
       " <ArcGIS Image for ArcGIS Online License at https://esri-training.maps.arcgis.com/sharing/rest/>,\n",
       " <ArcGIS GeoBIM License at https://esri-training.maps.arcgis.com/sharing/rest/>,\n",
       " <ArcGIS for Power BI License at https://esri-training.maps.arcgis.com/sharing/rest/>,\n",
       " <ArcGIS GeoPlanner License at https://esri-training.maps.arcgis.com/sharing/rest/>,\n",
       " <License at https://esri-training.maps.arcgis.com/sharing/rest/>,\n",
       " <ArcGIS AppStudio License at https://esri-training.maps.arcgis.com/sharing/rest/>,\n",
       " <ArcGIS Drone2Map License at https://esri-training.maps.arcgis.com/sharing/rest/>,\n",
       " <ArcGIS Community Analyst License at https://esri-training.maps.arcgis.com/sharing/rest/>,\n",
       " <Runtime Analysis  License at https://esri-training.maps.arcgis.com/sharing/rest/>,\n",
       " <ArcGIS Navigator License at https://esri-training.maps.arcgis.com/sharing/rest/>,\n",
       " <Admin Tools for ArcGIS Online License at https://esri-training.maps.arcgis.com/sharing/rest/>,\n",
       " <ArcGIS Field Maps License at https://esri-training.maps.arcgis.com/sharing/rest/>,\n",
       " <ArcGIS Tracker License at https://esri-training.maps.arcgis.com/sharing/rest/>,\n",
       " <ArcGIS Location Sharing License at https://esri-training.maps.arcgis.com/sharing/rest/>,\n",
       " <ArcGIS Business Analyst Web and Mobile Apps License at https://esri-training.maps.arcgis.com/sharing/rest/>,\n",
       " <ArcGIS CityEngine License at https://esri-training.maps.arcgis.com/sharing/rest/>]"
      ]
     },
     "execution_count": 5,
     "metadata": {},
     "output_type": "execute_result"
    }
   ],
   "source": [
    "license = gis_agol.admin.license\n",
    "license.all()"
   ]
  },
  {
   "cell_type": "markdown",
   "metadata": {},
   "source": [
    "**Getting a Single License**"
   ]
  },
  {
   "cell_type": "code",
   "execution_count": 6,
   "metadata": {},
   "outputs": [
    {
     "data": {
      "text/plain": [
       "<ArcGIS Pro License at https://esri-training.maps.arcgis.com/sharing/rest/>"
      ]
     },
     "execution_count": 6,
     "metadata": {},
     "output_type": "execute_result"
    }
   ],
   "source": [
    "pro_license = license.get('ArcGIS Pro')\n",
    "pro_license"
   ]
  },
  {
   "cell_type": "markdown",
   "metadata": {},
   "source": [
    "**Viewing Licensing Reports**\n",
    "\n",
    "- provides both visual and tabular reports\n",
    "\n",
    "**Tabular Reports**"
   ]
  },
  {
   "cell_type": "code",
   "execution_count": 9,
   "metadata": {
    "scrolled": true
   },
   "outputs": [
    {
     "data": {
      "text/html": [
       "<div>\n",
       "<style scoped>\n",
       "    .dataframe tbody tr th:only-of-type {\n",
       "        vertical-align: middle;\n",
       "    }\n",
       "\n",
       "    .dataframe tbody tr th {\n",
       "        vertical-align: top;\n",
       "    }\n",
       "\n",
       "    .dataframe thead th {\n",
       "        text-align: right;\n",
       "    }\n",
       "</style>\n",
       "<table border=\"1\" class=\"dataframe\">\n",
       "  <thead>\n",
       "    <tr style=\"text-align: right;\">\n",
       "      <th></th>\n",
       "      <th>Entitlement</th>\n",
       "      <th>Total</th>\n",
       "      <th>Assigned</th>\n",
       "      <th>Remaining</th>\n",
       "      <th>Users</th>\n",
       "    </tr>\n",
       "  </thead>\n",
       "  <tbody>\n",
       "    <tr>\n",
       "      <th>0</th>\n",
       "      <td>3DAnalystN</td>\n",
       "      <td>500</td>\n",
       "      <td>307</td>\n",
       "      <td>193</td>\n",
       "      <td>[{'user': 'adr4training', 'lastUsed': 'July 16...</td>\n",
       "    </tr>\n",
       "    <tr>\n",
       "      <th>1</th>\n",
       "      <td>airportsN</td>\n",
       "      <td>500</td>\n",
       "      <td>11</td>\n",
       "      <td>489</td>\n",
       "      <td>[{'user': 'alra4training', 'lastUsed': 'Novemb...</td>\n",
       "    </tr>\n",
       "    <tr>\n",
       "      <th>2</th>\n",
       "      <td>aviationN</td>\n",
       "      <td>500</td>\n",
       "      <td>8</td>\n",
       "      <td>492</td>\n",
       "      <td>[{'user': 'alra4training', 'lastUsed': 'Novemb...</td>\n",
       "    </tr>\n",
       "    <tr>\n",
       "      <th>3</th>\n",
       "      <td>bathymetryN</td>\n",
       "      <td>500</td>\n",
       "      <td>41</td>\n",
       "      <td>459</td>\n",
       "      <td>[{'user': 'alra4training', 'lastUsed': 'Novemb...</td>\n",
       "    </tr>\n",
       "    <tr>\n",
       "      <th>4</th>\n",
       "      <td>businessStdN</td>\n",
       "      <td>500</td>\n",
       "      <td>31</td>\n",
       "      <td>469</td>\n",
       "      <td>[{'user': 'alra4training', 'lastUsed': 'Novemb...</td>\n",
       "    </tr>\n",
       "    <tr>\n",
       "      <th>5</th>\n",
       "      <td>dataInteropN</td>\n",
       "      <td>500</td>\n",
       "      <td>93</td>\n",
       "      <td>407</td>\n",
       "      <td>[{'user': 'alra4training', 'lastUsed': 'Novemb...</td>\n",
       "    </tr>\n",
       "    <tr>\n",
       "      <th>6</th>\n",
       "      <td>dataReviewerN</td>\n",
       "      <td>500</td>\n",
       "      <td>32</td>\n",
       "      <td>468</td>\n",
       "      <td>[{'user': 'alra4training', 'lastUsed': 'Novemb...</td>\n",
       "    </tr>\n",
       "    <tr>\n",
       "      <th>7</th>\n",
       "      <td>defenseN</td>\n",
       "      <td>500</td>\n",
       "      <td>28</td>\n",
       "      <td>472</td>\n",
       "      <td>[{'user': 'alra4training', 'lastUsed': 'Novemb...</td>\n",
       "    </tr>\n",
       "    <tr>\n",
       "      <th>8</th>\n",
       "      <td>desktopAdvN</td>\n",
       "      <td>500</td>\n",
       "      <td>230</td>\n",
       "      <td>270</td>\n",
       "      <td>[{'user': 'adr4training', 'lastUsed': 'July 16...</td>\n",
       "    </tr>\n",
       "    <tr>\n",
       "      <th>9</th>\n",
       "      <td>desktopBasicN</td>\n",
       "      <td>500</td>\n",
       "      <td>28</td>\n",
       "      <td>472</td>\n",
       "      <td>[{'user': 'adr_stud01', 'lastUsed': None}, {'u...</td>\n",
       "    </tr>\n",
       "    <tr>\n",
       "      <th>10</th>\n",
       "      <td>desktopStdN</td>\n",
       "      <td>500</td>\n",
       "      <td>2</td>\n",
       "      <td>498</td>\n",
       "      <td>[{'user': 'cede4training', 'lastUsed': 'August...</td>\n",
       "    </tr>\n",
       "    <tr>\n",
       "      <th>11</th>\n",
       "      <td>geostatAnalystN</td>\n",
       "      <td>500</td>\n",
       "      <td>46</td>\n",
       "      <td>454</td>\n",
       "      <td>[{'user': 'alra4training', 'lastUsed': 'Novemb...</td>\n",
       "    </tr>\n",
       "    <tr>\n",
       "      <th>12</th>\n",
       "      <td>imageAnalystN</td>\n",
       "      <td>500</td>\n",
       "      <td>63</td>\n",
       "      <td>437</td>\n",
       "      <td>[{'user': 'alra4training', 'lastUsed': 'Novemb...</td>\n",
       "    </tr>\n",
       "    <tr>\n",
       "      <th>13</th>\n",
       "      <td>indoorsN</td>\n",
       "      <td>500</td>\n",
       "      <td>19</td>\n",
       "      <td>481</td>\n",
       "      <td>[{'user': 'bw4training', 'lastUsed': 'August 2...</td>\n",
       "    </tr>\n",
       "    <tr>\n",
       "      <th>14</th>\n",
       "      <td>locateXTN</td>\n",
       "      <td>500</td>\n",
       "      <td>44</td>\n",
       "      <td>456</td>\n",
       "      <td>[{'user': 'alra4training', 'lastUsed': 'Novemb...</td>\n",
       "    </tr>\n",
       "    <tr>\n",
       "      <th>15</th>\n",
       "      <td>LocRefDesktopN</td>\n",
       "      <td>500</td>\n",
       "      <td>27</td>\n",
       "      <td>473</td>\n",
       "      <td>[{'user': 'alra4training', 'lastUsed': 'Novemb...</td>\n",
       "    </tr>\n",
       "    <tr>\n",
       "      <th>16</th>\n",
       "      <td>maritimeN</td>\n",
       "      <td>500</td>\n",
       "      <td>26</td>\n",
       "      <td>474</td>\n",
       "      <td>[{'user': 'alra4training', 'lastUsed': 'Novemb...</td>\n",
       "    </tr>\n",
       "    <tr>\n",
       "      <th>17</th>\n",
       "      <td>networkAnalystN</td>\n",
       "      <td>500</td>\n",
       "      <td>248</td>\n",
       "      <td>252</td>\n",
       "      <td>[{'user': 'adr4training', 'lastUsed': 'July 16...</td>\n",
       "    </tr>\n",
       "    <tr>\n",
       "      <th>18</th>\n",
       "      <td>productionMapN</td>\n",
       "      <td>500</td>\n",
       "      <td>44</td>\n",
       "      <td>456</td>\n",
       "      <td>[{'user': 'alra4training', 'lastUsed': 'Novemb...</td>\n",
       "    </tr>\n",
       "    <tr>\n",
       "      <th>19</th>\n",
       "      <td>publisherN</td>\n",
       "      <td>500</td>\n",
       "      <td>44</td>\n",
       "      <td>456</td>\n",
       "      <td>[{'user': 'alra4training', 'lastUsed': 'Novemb...</td>\n",
       "    </tr>\n",
       "    <tr>\n",
       "      <th>20</th>\n",
       "      <td>smpEuropeN</td>\n",
       "      <td>500</td>\n",
       "      <td>45</td>\n",
       "      <td>455</td>\n",
       "      <td>[{'user': 'alra4training', 'lastUsed': 'Novemb...</td>\n",
       "    </tr>\n",
       "    <tr>\n",
       "      <th>21</th>\n",
       "      <td>smpNAmericaN</td>\n",
       "      <td>500</td>\n",
       "      <td>11</td>\n",
       "      <td>489</td>\n",
       "      <td>[{'user': 'alra4training', 'lastUsed': 'Novemb...</td>\n",
       "    </tr>\n",
       "    <tr>\n",
       "      <th>22</th>\n",
       "      <td>spatialAnalystN</td>\n",
       "      <td>500</td>\n",
       "      <td>289</td>\n",
       "      <td>211</td>\n",
       "      <td>[{'user': 'adr4training', 'lastUsed': 'July 16...</td>\n",
       "    </tr>\n",
       "    <tr>\n",
       "      <th>23</th>\n",
       "      <td>workflowMgrN</td>\n",
       "      <td>500</td>\n",
       "      <td>14</td>\n",
       "      <td>486</td>\n",
       "      <td>[{'user': 'alra4training', 'lastUsed': 'Novemb...</td>\n",
       "    </tr>\n",
       "  </tbody>\n",
       "</table>\n",
       "</div>"
      ],
      "text/plain": [
       "        Entitlement  Total  Assigned  Remaining  \\\n",
       "0        3DAnalystN    500       307        193   \n",
       "1         airportsN    500        11        489   \n",
       "2         aviationN    500         8        492   \n",
       "3       bathymetryN    500        41        459   \n",
       "4      businessStdN    500        31        469   \n",
       "5      dataInteropN    500        93        407   \n",
       "6     dataReviewerN    500        32        468   \n",
       "7          defenseN    500        28        472   \n",
       "8       desktopAdvN    500       230        270   \n",
       "9     desktopBasicN    500        28        472   \n",
       "10      desktopStdN    500         2        498   \n",
       "11  geostatAnalystN    500        46        454   \n",
       "12    imageAnalystN    500        63        437   \n",
       "13         indoorsN    500        19        481   \n",
       "14        locateXTN    500        44        456   \n",
       "15   LocRefDesktopN    500        27        473   \n",
       "16        maritimeN    500        26        474   \n",
       "17  networkAnalystN    500       248        252   \n",
       "18   productionMapN    500        44        456   \n",
       "19       publisherN    500        44        456   \n",
       "20       smpEuropeN    500        45        455   \n",
       "21     smpNAmericaN    500        11        489   \n",
       "22  spatialAnalystN    500       289        211   \n",
       "23     workflowMgrN    500        14        486   \n",
       "\n",
       "                                                Users  \n",
       "0   [{'user': 'adr4training', 'lastUsed': 'July 16...  \n",
       "1   [{'user': 'alra4training', 'lastUsed': 'Novemb...  \n",
       "2   [{'user': 'alra4training', 'lastUsed': 'Novemb...  \n",
       "3   [{'user': 'alra4training', 'lastUsed': 'Novemb...  \n",
       "4   [{'user': 'alra4training', 'lastUsed': 'Novemb...  \n",
       "5   [{'user': 'alra4training', 'lastUsed': 'Novemb...  \n",
       "6   [{'user': 'alra4training', 'lastUsed': 'Novemb...  \n",
       "7   [{'user': 'alra4training', 'lastUsed': 'Novemb...  \n",
       "8   [{'user': 'adr4training', 'lastUsed': 'July 16...  \n",
       "9   [{'user': 'adr_stud01', 'lastUsed': None}, {'u...  \n",
       "10  [{'user': 'cede4training', 'lastUsed': 'August...  \n",
       "11  [{'user': 'alra4training', 'lastUsed': 'Novemb...  \n",
       "12  [{'user': 'alra4training', 'lastUsed': 'Novemb...  \n",
       "13  [{'user': 'bw4training', 'lastUsed': 'August 2...  \n",
       "14  [{'user': 'alra4training', 'lastUsed': 'Novemb...  \n",
       "15  [{'user': 'alra4training', 'lastUsed': 'Novemb...  \n",
       "16  [{'user': 'alra4training', 'lastUsed': 'Novemb...  \n",
       "17  [{'user': 'adr4training', 'lastUsed': 'July 16...  \n",
       "18  [{'user': 'alra4training', 'lastUsed': 'Novemb...  \n",
       "19  [{'user': 'alra4training', 'lastUsed': 'Novemb...  \n",
       "20  [{'user': 'alra4training', 'lastUsed': 'Novemb...  \n",
       "21  [{'user': 'alra4training', 'lastUsed': 'Novemb...  \n",
       "22  [{'user': 'adr4training', 'lastUsed': 'July 16...  \n",
       "23  [{'user': 'alra4training', 'lastUsed': 'Novemb...  "
      ]
     },
     "execution_count": 9,
     "metadata": {},
     "output_type": "execute_result"
    }
   ],
   "source": [
    "report = pro_license.report\n",
    "report"
   ]
  },
  {
   "cell_type": "markdown",
   "metadata": {},
   "source": [
    "**Revoking Entitlements**\n",
    "\n",
    "- `revoke` removes a license for the product assigned to a user."
   ]
  },
  {
   "cell_type": "code",
   "execution_count": 12,
   "metadata": {},
   "outputs": [
    {
     "data": {
      "text/plain": [
       "True"
      ]
     },
     "execution_count": 12,
     "metadata": {},
     "output_type": "execute_result"
    }
   ],
   "source": [
    "pro_license..revoke(username=\"entitleduser\", entitlements=\"*\")"
   ]
  },
  {
   "cell_type": "code",
   "execution_count": 20,
   "metadata": {},
   "outputs": [
    {
     "data": {
      "text/html": [
       "<div>\n",
       "<style scoped>\n",
       "    .dataframe tbody tr th:only-of-type {\n",
       "        vertical-align: middle;\n",
       "    }\n",
       "\n",
       "    .dataframe tbody tr th {\n",
       "        vertical-align: top;\n",
       "    }\n",
       "\n",
       "    .dataframe thead th {\n",
       "        text-align: right;\n",
       "    }\n",
       "</style>\n",
       "<table border=\"1\" class=\"dataframe\">\n",
       "  <thead>\n",
       "    <tr style=\"text-align: right;\">\n",
       "      <th></th>\n",
       "      <th>Entitlement</th>\n",
       "      <th>Total</th>\n",
       "      <th>Assigned</th>\n",
       "      <th>Remaining</th>\n",
       "      <th>Users</th>\n",
       "    </tr>\n",
       "  </thead>\n",
       "  <tbody>\n",
       "    <tr>\n",
       "      <th>10</th>\n",
       "      <td>desktopStdN</td>\n",
       "      <td>500</td>\n",
       "      <td>2</td>\n",
       "      <td>498</td>\n",
       "      <td>[{'user': 'cede4training', 'lastUsed': 'August...</td>\n",
       "    </tr>\n",
       "  </tbody>\n",
       "</table>\n",
       "</div>"
      ],
      "text/plain": [
       "    Entitlement  Total  Assigned  Remaining  \\\n",
       "10  desktopStdN    500         2        498   \n",
       "\n",
       "                                                Users  \n",
       "10  [{'user': 'cede4training', 'lastUsed': 'August...  "
      ]
     },
     "execution_count": 20,
     "metadata": {},
     "output_type": "execute_result"
    }
   ],
   "source": [
    "\n",
    "report[report['Entitlement'] == 'desktopStdN']\n"
   ]
  },
  {
   "cell_type": "markdown",
   "metadata": {},
   "source": [
    "#### Releasing ArcGIS Pro License for Offline Users"
   ]
  },
  {
   "cell_type": "markdown",
   "metadata": {},
   "source": [
    "- Users can check out licenses, but it holds a license from anyone else to use\n",
    "- Administrators can force the release of that license on enterprise"
   ]
  },
  {
   "cell_type": "markdown",
   "metadata": {},
   "source": [
    "```python\n",
    "licenses.release_license('username')\n",
    "{'status' : 'success'}\n",
    "```"
   ]
  },
  {
   "cell_type": "markdown",
   "metadata": {},
   "source": [
    "### Credit Management"
   ]
  },
  {
   "cell_type": "markdown",
   "metadata": {},
   "source": [
    "- The currency of ArcGIS Online\n",
    "- Allows users to do analysis, enrich data, and much more\n",
    "- Hosting services cost credit as well."
   ]
  },
  {
   "cell_type": "markdown",
   "metadata": {},
   "source": [
    "**Access the CreditManager**"
   ]
  },
  {
   "cell_type": "code",
   "execution_count": 21,
   "metadata": {},
   "outputs": [
    {
     "data": {
      "text/plain": [
       "<arcgis.gis.admin._creditmanagement.CreditManager at 0x25dd152a4c0>"
      ]
     },
     "execution_count": 21,
     "metadata": {},
     "output_type": "execute_result"
    }
   ],
   "source": [
    "cm = gis_agol.admin.credits\n",
    "cm"
   ]
  },
  {
   "cell_type": "markdown",
   "metadata": {},
   "source": [
    "**View Available Credits**\n",
    "\n",
    "- Get the total number of credits on an Organization"
   ]
  },
  {
   "cell_type": "code",
   "execution_count": 22,
   "metadata": {},
   "outputs": [
    {
     "data": {
      "text/plain": [
       "3367.9314"
      ]
     },
     "execution_count": 22,
     "metadata": {},
     "output_type": "execute_result"
    }
   ],
   "source": [
    "cm.credits"
   ]
  },
  {
   "cell_type": "markdown",
   "metadata": {},
   "source": [
    "**Managing Credits**\n",
    "\n",
    "- Setup budgeting rules by enabling management"
   ]
  },
  {
   "cell_type": "code",
   "execution_count": 23,
   "metadata": {},
   "outputs": [
    {
     "name": "stdout",
     "output_type": "stream",
     "text": [
      "True\n"
     ]
    },
    {
     "data": {
      "text/plain": [
       "True"
      ]
     },
     "execution_count": 23,
     "metadata": {},
     "output_type": "execute_result"
    }
   ],
   "source": [
    "if cm.is_enabled:\n",
    "    #print(cm.enable())\n",
    "cm.is_enabled"
   ]
  },
  {
   "cell_type": "markdown",
   "metadata": {},
   "source": [
    "**Checking the Default Limit**\n",
    "\n",
    "- The default credit setting is unlimited (-1)\n"
   ]
  },
  {
   "cell_type": "code",
   "execution_count": 24,
   "metadata": {},
   "outputs": [
    {
     "data": {
      "text/plain": [
       "500"
      ]
     },
     "execution_count": 24,
     "metadata": {},
     "output_type": "execute_result"
    }
   ],
   "source": [
    "cm.default_limit"
   ]
  },
  {
   "cell_type": "markdown",
   "metadata": {},
   "source": [
    "**Demo: Setting the default user credits**"
   ]
  },
  {
   "cell_type": "code",
   "execution_count": 25,
   "metadata": {},
   "outputs": [
    {
     "data": {
      "text/plain": [
       "500"
      ]
     },
     "execution_count": 25,
     "metadata": {},
     "output_type": "execute_result"
    }
   ],
   "source": [
    "# %load ./solutions/setting_credits.py\n",
    "if cm.default_limit == -1:\n",
    "    cm.default_limit = 500\n",
    "cm.default_limit"
   ]
  },
  {
   "cell_type": "markdown",
   "metadata": {},
   "source": [
    "**Allocating Credits to a User**\n",
    "\n",
    "- Assignment of credits beyond the default is sometimes necessary"
   ]
  },
  {
   "cell_type": "code",
   "execution_count": 30,
   "metadata": {},
   "outputs": [
    {
     "data": {
      "text/plain": [
       "True"
      ]
     },
     "execution_count": 30,
     "metadata": {},
     "output_type": "execute_result"
    }
   ],
   "source": [
    "cm.allocate(username=gis_agol.users.me.username, \n",
    "            credits=300)"
   ]
  },
  {
   "cell_type": "markdown",
   "metadata": {},
   "source": [
    "**Give Specific User Unlimited Credits**"
   ]
  },
  {
   "cell_type": "code",
   "execution_count": 31,
   "metadata": {},
   "outputs": [
    {
     "data": {
      "text/plain": [
       "True"
      ]
     },
     "execution_count": 31,
     "metadata": {},
     "output_type": "execute_result"
    }
   ],
   "source": [
    "#cm.allocate(username=gis_agol.users.me.username,credits=-1)"
   ]
  },
  {
   "cell_type": "markdown",
   "metadata": {},
   "source": [
    "**Disabling Credit Management**\n",
    "\n",
    "- `disable()` on credit manager will disable any credit monitoring\n",
    "- **THIS IS A BAD IDEA**"
   ]
  },
  {
   "cell_type": "markdown",
   "metadata": {},
   "source": [
    "### Metadata Management"
   ]
  },
  {
   "cell_type": "markdown",
   "metadata": {},
   "source": [
    "- Information about information\n",
    "- Allows users to provide robust information about datasets beyond the description, title, tags, etc..."
   ]
  },
  {
   "cell_type": "markdown",
   "metadata": {},
   "source": [
    "### User History\n",
    "\n",
    "- Examine what users are doing with the organization\n",
    "- Ensure specific content does not change or get modified\n"
   ]
  },
  {
   "cell_type": "code",
   "execution_count": 26,
   "metadata": {},
   "outputs": [
    {
     "data": {
      "text/plain": [
       "<AxesSubplot:>"
      ]
     },
     "execution_count": 26,
     "metadata": {},
     "output_type": "execute_result"
    },
    {
     "data": {
      "image/png": "[encoded data removed]",
      "text/plain": [
       "<Figure size 432x288 with 1 Axes>"
      ]
     },
     "metadata": {
      "needs_background": "light"
     },
     "output_type": "display_data"
    }
   ],
   "source": [
    "%matplotlib inline\n",
    "import datetime\n",
    "import pandas as pd\n",
    "then = datetime.datetime.now() - datetime.timedelta(days=4)\n",
    "df = pd.read_csv(gis_agol.admin.history(start_date=then, num=100000))\n",
    "df.action.value_counts().plot.bar()"
   ]
  },
  {
   "cell_type": "markdown",
   "metadata": {},
   "source": [
    "### Portal Logs"
   ]
  },
  {
   "cell_type": "markdown",
   "metadata": {},
   "source": [
    "- A record of events that occurred\n",
    "- Used for monitoring and troubleshooting portal"
   ]
  },
  {
   "cell_type": "markdown",
   "metadata": {},
   "source": [
    "#### Examples of Logs Incidents:\n",
    "\n",
    "+ Installation and upgrade events, such as authorizing the software and creating the portal website\n",
    "+ Publishing of services and items, such as hosted services, web maps, and data items\n",
    "+ Content management events, such as sharing items, changing item ownership, and adding, updating, moving, and deleting items\n",
    "+ Security events, such as users logging in to the portal, creating, deleting, and disabling users, creating and changing user roles, updating HTTP and HTTPS settings, import and export of security certificates, and updating the portal's identity store\n",
    "+ Organization management events, such as adding and configuring groups, adding or removing users from a group, configuration of the gallery, basemaps, utility services, and federated servers, and configuring log settings and deleting logs\n",
    "+ General events, such as updating the portal's search index and restarting the portal"
   ]
  },
  {
   "cell_type": "code",
   "execution_count": 29,
   "metadata": {},
   "outputs": [
    {
     "data": {
      "text/plain": [
       "<Logs at https://sit.lutry.ch/portal//portaladmin/logs>"
      ]
     },
     "execution_count": 29,
     "metadata": {},
     "output_type": "execute_result"
    }
   ],
   "source": [
    "gis = GIS(profile=\"enterpriseAdmin\")\n",
    "logs = gis.admin.logs\n",
    "logs"
   ]
  },
  {
   "cell_type": "markdown",
   "metadata": {},
   "source": [
    "#### Log Settings"
   ]
  },
  {
   "cell_type": "markdown",
   "metadata": {},
   "source": [
    "- Modify, update basic storage and save setting"
   ]
  },
  {
   "cell_type": "code",
   "execution_count": 30,
   "metadata": {},
   "outputs": [
    {
     "data": {
      "text/plain": [
       "{'logDir': 'D:\\\\arcgisportal\\\\logs\\\\',\n",
       " 'logLevel': 'VERBOSE',\n",
       " 'maxErrorReportsCount': 10,\n",
       " 'maxLogFileAge': 90,\n",
       " 'usageMeteringEnabled': False}"
      ]
     },
     "execution_count": 30,
     "metadata": {},
     "output_type": "execute_result"
    }
   ],
   "source": [
    "logs.settings"
   ]
  },
  {
   "cell_type": "markdown",
   "metadata": {},
   "source": [
    "#### Query Portal Logs"
   ]
  },
  {
   "cell_type": "code",
   "execution_count": 31,
   "metadata": {},
   "outputs": [],
   "source": [
    "import datetime\n",
    "import pandas as pd\n",
    "results = logs.query(start_time=datetime.datetime.now() - datetime.timedelta(days=10))"
   ]
  },
  {
   "cell_type": "code",
   "execution_count": 32,
   "metadata": {},
   "outputs": [
    {
     "data": {
      "text/plain": [
       "<AxesSubplot:>"
      ]
     },
     "execution_count": 32,
     "metadata": {},
     "output_type": "execute_result"
    },
    {
     "data": {
      "image/png": "[encoded data removed]",
      "text/plain": [
       "<Figure size 432x288 with 1 Axes>"
      ]
     },
     "metadata": {
      "needs_background": "light"
     },
     "output_type": "display_data"
    }
   ],
   "source": [
    "%matplotlib inline\n",
    "df = pd.DataFrame(results['logMessages'])\n",
    "df.type.value_counts().plot.bar()"
   ]
  },
  {
   "cell_type": "code",
   "execution_count": 33,
   "metadata": {},
   "outputs": [
    {
     "data": {
      "text/html": [
       "<div>\n",
       "<style scoped>\n",
       "    .dataframe tbody tr th:only-of-type {\n",
       "        vertical-align: middle;\n",
       "    }\n",
       "\n",
       "    .dataframe tbody tr th {\n",
       "        vertical-align: top;\n",
       "    }\n",
       "\n",
       "    .dataframe thead th {\n",
       "        text-align: right;\n",
       "    }\n",
       "</style>\n",
       "<table border=\"1\" class=\"dataframe\">\n",
       "  <thead>\n",
       "    <tr style=\"text-align: right;\">\n",
       "      <th></th>\n",
       "      <th>type</th>\n",
       "      <th>message</th>\n",
       "      <th>time</th>\n",
       "      <th>source</th>\n",
       "      <th>machine</th>\n",
       "      <th>user</th>\n",
       "      <th>code</th>\n",
       "      <th>elapsed</th>\n",
       "      <th>process</th>\n",
       "      <th>thread</th>\n",
       "      <th>methodName</th>\n",
       "      <th>requestID</th>\n",
       "    </tr>\n",
       "  </thead>\n",
       "  <tbody>\n",
       "    <tr>\n",
       "      <th>0</th>\n",
       "      <td>WARNING</td>\n",
       "      <td>Sign in error: Invalid username or password s...</td>\n",
       "      <td>1668196000660</td>\n",
       "      <td>Sharing</td>\n",
       "      <td>VM-GIS-WEB.LUTRY.LAN</td>\n",
       "      <td></td>\n",
       "      <td>219999</td>\n",
       "      <td></td>\n",
       "      <td>484</td>\n",
       "      <td>1</td>\n",
       "      <td></td>\n",
       "      <td></td>\n",
       "    </tr>\n",
       "    <tr>\n",
       "      <th>1</th>\n",
       "      <td>WARNING</td>\n",
       "      <td>Sign in error: Invalid username or password s...</td>\n",
       "      <td>1668195998399</td>\n",
       "      <td>Sharing</td>\n",
       "      <td>VM-GIS-WEB.LUTRY.LAN</td>\n",
       "      <td></td>\n",
       "      <td>219999</td>\n",
       "      <td></td>\n",
       "      <td>484</td>\n",
       "      <td>1</td>\n",
       "      <td></td>\n",
       "      <td></td>\n",
       "    </tr>\n",
       "    <tr>\n",
       "      <th>2</th>\n",
       "      <td>WARNING</td>\n",
       "      <td>The web server was found to be stopped. Re-sta...</td>\n",
       "      <td>1668109119809</td>\n",
       "      <td>Portal</td>\n",
       "      <td>VM-GIS-WEB.LUTRY.LAN</td>\n",
       "      <td></td>\n",
       "      <td>217064</td>\n",
       "      <td></td>\n",
       "      <td>2484</td>\n",
       "      <td>1</td>\n",
       "      <td></td>\n",
       "      <td></td>\n",
       "    </tr>\n",
       "    <tr>\n",
       "      <th>3</th>\n",
       "      <td>WARNING</td>\n",
       "      <td>The database server was found to be stopped. R...</td>\n",
       "      <td>1668109104185</td>\n",
       "      <td>Portal</td>\n",
       "      <td>VM-GIS-WEB.LUTRY.LAN</td>\n",
       "      <td></td>\n",
       "      <td>217060</td>\n",
       "      <td></td>\n",
       "      <td>2484</td>\n",
       "      <td>1</td>\n",
       "      <td></td>\n",
       "      <td></td>\n",
       "    </tr>\n",
       "    <tr>\n",
       "      <th>4</th>\n",
       "      <td>WARNING</td>\n",
       "      <td>Started Index Service.</td>\n",
       "      <td>1668109103701</td>\n",
       "      <td>Portal</td>\n",
       "      <td>VM-GIS-WEB.LUTRY.LAN</td>\n",
       "      <td></td>\n",
       "      <td>218015</td>\n",
       "      <td></td>\n",
       "      <td>2484</td>\n",
       "      <td>1</td>\n",
       "      <td></td>\n",
       "      <td></td>\n",
       "    </tr>\n",
       "  </tbody>\n",
       "</table>\n",
       "</div>"
      ],
      "text/plain": [
       "      type                                            message           time  \\\n",
       "0  WARNING   Sign in error: Invalid username or password s...  1668196000660   \n",
       "1  WARNING   Sign in error: Invalid username or password s...  1668195998399   \n",
       "2  WARNING  The web server was found to be stopped. Re-sta...  1668109119809   \n",
       "3  WARNING  The database server was found to be stopped. R...  1668109104185   \n",
       "4  WARNING                             Started Index Service.  1668109103701   \n",
       "\n",
       "    source               machine user    code elapsed process thread  \\\n",
       "0  Sharing  VM-GIS-WEB.LUTRY.LAN       219999             484      1   \n",
       "1  Sharing  VM-GIS-WEB.LUTRY.LAN       219999             484      1   \n",
       "2   Portal  VM-GIS-WEB.LUTRY.LAN       217064            2484      1   \n",
       "3   Portal  VM-GIS-WEB.LUTRY.LAN       217060            2484      1   \n",
       "4   Portal  VM-GIS-WEB.LUTRY.LAN       218015            2484      1   \n",
       "\n",
       "  methodName requestID  \n",
       "0                       \n",
       "1                       \n",
       "2                       \n",
       "3                       \n",
       "4                       "
      ]
     },
     "execution_count": 33,
     "metadata": {},
     "output_type": "execute_result"
    }
   ],
   "source": [
    "df.head()"
   ]
  },
  {
   "cell_type": "markdown",
   "metadata": {},
   "source": [
    "### Deep Dive into PortalAdmin API"
   ]
  },
  {
   "cell_type": "markdown",
   "metadata": {},
   "source": [
    "####  Inspecting the Portal's Machines\n",
    "\n",
    "- query the machines that power your portal\n",
    "\n"
   ]
  },
  {
   "cell_type": "code",
   "execution_count": 34,
   "metadata": {},
   "outputs": [
    {
     "data": {
      "text/plain": [
       "<Machines at https://sit.lutry.ch/portal//portaladmin/machines>"
      ]
     },
     "execution_count": 34,
     "metadata": {},
     "output_type": "execute_result"
    }
   ],
   "source": [
    "machines = gis.admin.machines\n",
    "machines"
   ]
  },
  {
   "cell_type": "code",
   "execution_count": 35,
   "metadata": {},
   "outputs": [
    {
     "data": {
      "text/plain": [
       "[<Machine at https://sit.lutry.ch/portal//portaladmin/machines>]"
      ]
     },
     "execution_count": 35,
     "metadata": {},
     "output_type": "execute_result"
    }
   ],
   "source": [
    "machines.list()"
   ]
  },
  {
   "cell_type": "markdown",
   "metadata": {},
   "source": [
    "**Check if Machine is Running**"
   ]
  },
  {
   "cell_type": "code",
   "execution_count": 36,
   "metadata": {},
   "outputs": [
    {
     "data": {
      "text/plain": [
       "True"
      ]
     },
     "execution_count": 36,
     "metadata": {},
     "output_type": "execute_result"
    }
   ],
   "source": [
    "machine = machines.list()[0]\n",
    "machine.status()"
   ]
  },
  {
   "cell_type": "markdown",
   "metadata": {
    "heading_collapsed": true
   },
   "source": [
    "#### System Directories\n",
    "\n",
    "- inspect the physical pathes where resources are stored"
   ]
  },
  {
   "cell_type": "code",
   "execution_count": 37,
   "metadata": {
    "hidden": true
   },
   "outputs": [
    {
     "data": {
      "text/plain": [
       "[<Directory at https://sit.lutry.ch/portal//portaladmin/system/directories/index>,\n",
       " <Directory at https://sit.lutry.ch/portal//portaladmin/system/directories/db>,\n",
       " <Directory at https://sit.lutry.ch/portal//portaladmin/system/directories/temp>,\n",
       " <Directory at https://sit.lutry.ch/portal//portaladmin/system/directories/content>]"
      ]
     },
     "execution_count": 37,
     "metadata": {},
     "output_type": "execute_result"
    }
   ],
   "source": [
    "directories = gis.admin.system.directories\n",
    "directories"
   ]
  },
  {
   "cell_type": "code",
   "execution_count": 38,
   "metadata": {
    "hidden": true
   },
   "outputs": [
    {
     "data": {
      "text/plain": [
       "{\n",
       "  \"name\": \"index\",\n",
       "  \"physicalPath\": \"D:\\\\arcgisportal\\\\index\",\n",
       "  \"directoryType\": \"INDEX\",\n",
       "  \"description\": \"The index directory.\"\n",
       "}"
      ]
     },
     "execution_count": 38,
     "metadata": {},
     "output_type": "execute_result"
    }
   ],
   "source": [
    "d = directories[0]\n",
    "d.properties"
   ]
  },
  {
   "cell_type": "markdown",
   "metadata": {
    "heading_collapsed": true
   },
   "source": [
    "#### The System "
   ]
  },
  {
   "cell_type": "code",
   "execution_count": 39,
   "metadata": {
    "hidden": true
   },
   "outputs": [
    {
     "data": {
      "text/plain": [
       "<System at https://sit.lutry.ch/portal//portaladmin/system>"
      ]
     },
     "execution_count": 39,
     "metadata": {},
     "output_type": "execute_result"
    }
   ],
   "source": [
    "system = gis.admin.system\n",
    "system"
   ]
  },
  {
   "cell_type": "code",
   "execution_count": 40,
   "metadata": {
    "hidden": true
   },
   "outputs": [
    {
     "data": {
      "text/plain": [
       "{}"
      ]
     },
     "execution_count": 40,
     "metadata": {},
     "output_type": "execute_result"
    }
   ],
   "source": [
    "system.properties"
   ]
  },
  {
   "cell_type": "markdown",
   "metadata": {
    "heading_collapsed": true
   },
   "source": [
    "#### Re-indexing\n",
    "\n",
    "- Sometimes artifacts remain after deleting items\n",
    "- Forcing re-indexing can solved that problem"
   ]
  },
  {
   "cell_type": "code",
   "execution_count": 41,
   "metadata": {
    "hidden": true
   },
   "outputs": [
    {
     "data": {
      "text/plain": [
       "{'indexes': [{'name': 'users', 'databaseCount': 85, 'indexCount': 85},\n",
       "  {'name': 'groups', 'databaseCount': 423, 'indexCount': 423},\n",
       "  {'name': 'search', 'databaseCount': 17864, 'indexCount': 17864}],\n",
       " 'syncStatus': True}"
      ]
     },
     "execution_count": 41,
     "metadata": {},
     "output_type": "execute_result"
    }
   ],
   "source": [
    "system.index_status"
   ]
  },
  {
   "cell_type": "code",
   "execution_count": null,
   "metadata": {
    "hidden": true
   },
   "outputs": [],
   "source": [
    "#system.reindex(mode=\"SEARCH_MODE\")"
   ]
  },
  {
   "cell_type": "code",
   "execution_count": null,
   "metadata": {
    "hidden": true
   },
   "outputs": [],
   "source": [
    "system.index_status"
   ]
  },
  {
   "cell_type": "markdown",
   "metadata": {
    "heading_collapsed": true
   },
   "source": [
    "## Managing ArcGIS Server"
   ]
  },
  {
   "cell_type": "markdown",
   "metadata": {
    "hidden": true
   },
   "source": [
    "### Managing Federated Servers"
   ]
  },
  {
   "cell_type": "markdown",
   "metadata": {
    "hidden": true
   },
   "source": [
    "- The `admin` property provides useful tools to manage ArcGIS Server instances"
   ]
  },
  {
   "cell_type": "code",
   "execution_count": 43,
   "metadata": {
    "hidden": true
   },
   "outputs": [
    {
     "data": {
      "text/plain": [
       "<ServerManager at https://sit.lutry.ch/portal//portaladmin>"
      ]
     },
     "execution_count": 43,
     "metadata": {},
     "output_type": "execute_result"
    }
   ],
   "source": [
    "gis = GIS(profile=\"enterpriseAdmin\")\n",
    "servers = gis.admin.servers\n",
    "servers"
   ]
  },
  {
   "cell_type": "markdown",
   "metadata": {
    "hidden": true
   },
   "source": [
    "#### Listing the Federated Servers\n"
   ]
  },
  {
   "cell_type": "code",
   "execution_count": 44,
   "metadata": {
    "hidden": true
   },
   "outputs": [
    {
     "data": {
      "text/plain": [
       "[<Server at https://sit.lutry.ch/arcgis/admin>]"
      ]
     },
     "execution_count": 44,
     "metadata": {},
     "output_type": "execute_result"
    }
   ],
   "source": [
    "s = servers.list()\n",
    "s"
   ]
  },
  {
   "cell_type": "markdown",
   "metadata": {
    "hidden": true
   },
   "source": [
    "#### Check if Servers are Working\n",
    "\n",
    "- validate ensures everything is federated and running correctly"
   ]
  },
  {
   "cell_type": "code",
   "execution_count": 45,
   "metadata": {
    "hidden": true
   },
   "outputs": [
    {
     "data": {
      "text/plain": [
       "True"
      ]
     },
     "execution_count": 45,
     "metadata": {},
     "output_type": "execute_result"
    }
   ],
   "source": [
    "servers.validate()"
   ]
  },
  {
   "cell_type": "markdown",
   "metadata": {
    "hidden": true
   },
   "source": [
    "### Connecting to a Server"
   ]
  },
  {
   "cell_type": "markdown",
   "metadata": {
    "hidden": true
   },
   "source": [
    "#### Accessing Single Server\n"
   ]
  },
  {
   "cell_type": "code",
   "execution_count": 46,
   "metadata": {
    "hidden": true
   },
   "outputs": [
    {
     "data": {
      "text/plain": [
       "<Server at https://sit.lutry.ch/arcgis/admin>"
      ]
     },
     "execution_count": 46,
     "metadata": {},
     "output_type": "execute_result"
    }
   ],
   "source": [
    "server = s[0]\n",
    "server"
   ]
  },
  {
   "cell_type": "code",
   "execution_count": 47,
   "metadata": {
    "hidden": true
   },
   "outputs": [
    {
     "data": {
      "text/plain": [
       "{\n",
       "  \"isServerLicensed\": \"true\",\n",
       "  \"resources\": [\n",
       "    \"machines\",\n",
       "    \"clusters\",\n",
       "    \"system\",\n",
       "    \"services\",\n",
       "    \"security\",\n",
       "    \"data\",\n",
       "    \"uploads\",\n",
       "    \"logs\",\n",
       "    \"mode\",\n",
       "    \"usagereports\",\n",
       "    \"webhooks\"\n",
       "  ],\n",
       "  \"currentVersion\": 10.81,\n",
       "  \"fullVersion\": \"10.8.1\",\n",
       "  \"acceptLanguage\": null\n",
       "}"
      ]
     },
     "execution_count": 47,
     "metadata": {},
     "output_type": "execute_result"
    }
   ],
   "source": [
    "server.properties"
   ]
  },
  {
   "cell_type": "markdown",
   "metadata": {
    "hidden": true
   },
   "source": [
    "#### Accessing Server Logs\n",
    "\n",
    "- Like the portal Logs, server provide a host of information"
   ]
  },
  {
   "cell_type": "code",
   "execution_count": 48,
   "metadata": {
    "hidden": true
   },
   "outputs": [
    {
     "data": {
      "text/plain": [
       "<LogManager at https://sit.lutry.ch/arcgis/admin/logs>"
      ]
     },
     "execution_count": 48,
     "metadata": {},
     "output_type": "execute_result"
    }
   ],
   "source": [
    "logs = server.logs\n",
    "logs"
   ]
  },
  {
   "cell_type": "code",
   "execution_count": 49,
   "metadata": {
    "hidden": true
   },
   "outputs": [
    {
     "data": {
      "text/plain": [
       "{'logDir': 'C:\\\\arcgisserver\\\\logs\\\\',\n",
       " 'logLevel': 'WARNING',\n",
       " 'maxErrorReportsCount': 10,\n",
       " 'maxLogFileAge': 90,\n",
       " 'usageMeteringEnabled': False,\n",
       " 'statisticsConfig': {'enabled': True,\n",
       "  'samplingInterval': 30,\n",
       "  'maxHistory': 0,\n",
       "  'statisticsDir': 'D:\\\\arcgisserver\\\\directories\\\\arcgissystem'}}"
      ]
     },
     "execution_count": 49,
     "metadata": {},
     "output_type": "execute_result"
    }
   ],
   "source": [
    "logs.settings"
   ]
  },
  {
   "cell_type": "markdown",
   "metadata": {
    "heading_collapsed": true,
    "hidden": true
   },
   "source": [
    "### Managing service folders"
   ]
  },
  {
   "cell_type": "markdown",
   "metadata": {
    "hidden": true
   },
   "source": [
    "**Creating a Folder** \n",
    "\n",
    "- use `create_folder`"
   ]
  },
  {
   "cell_type": "code",
   "execution_count": null,
   "metadata": {
    "hidden": true
   },
   "outputs": [],
   "source": [
    "#server.services.create_folder(\"crime_analysis\")"
   ]
  },
  {
   "cell_type": "markdown",
   "metadata": {
    "hidden": true
   },
   "source": [
    "**Delete a Folder** \n",
    "\n",
    "- use `delete_folder`"
   ]
  },
  {
   "cell_type": "code",
   "execution_count": null,
   "metadata": {
    "hidden": true
   },
   "outputs": [],
   "source": [
    "#server.services.delete_folder('crime_analysis')"
   ]
  },
  {
   "cell_type": "markdown",
   "metadata": {
    "heading_collapsed": true,
    "hidden": true
   },
   "source": [
    "### Managing Services"
   ]
  },
  {
   "cell_type": "markdown",
   "metadata": {
    "hidden": true
   },
   "source": [
    "- Access service management from `services` property\n",
    "- Provides the ability start,stop, delete, and modify services"
   ]
  },
  {
   "cell_type": "code",
   "execution_count": 56,
   "metadata": {
    "hidden": true
   },
   "outputs": [
    {
     "data": {
      "text/plain": [
       "<ServiceManager at https://sit.lutry.ch/arcgis/admin/services>"
      ]
     },
     "execution_count": 56,
     "metadata": {},
     "output_type": "execute_result"
    }
   ],
   "source": [
    "services = server.services\n",
    "services"
   ]
  },
  {
   "cell_type": "markdown",
   "metadata": {
    "hidden": true
   },
   "source": [
    "#### Checking if Service Exists"
   ]
  },
  {
   "cell_type": "markdown",
   "metadata": {
    "hidden": true
   },
   "source": [
    "To check if a service exists on your server, call the `exists` method and specify the folder name, service name and type. You can also use this method to verify if a folder exists on the server."
   ]
  },
  {
   "cell_type": "code",
   "execution_count": 57,
   "metadata": {
    "hidden": true
   },
   "outputs": [
    {
     "data": {
      "text/plain": [
       "False"
      ]
     },
     "execution_count": 57,
     "metadata": {},
     "output_type": "execute_result"
    }
   ],
   "source": [
    "services.exists(folder_name='Hosted', name='Ports', service_type='FeatureServer')"
   ]
  },
  {
   "cell_type": "markdown",
   "metadata": {
    "heading_collapsed": true,
    "hidden": true
   },
   "source": [
    "#### Demo: Listing all Services"
   ]
  },
  {
   "cell_type": "code",
   "execution_count": 58,
   "metadata": {
    "hidden": true
   },
   "outputs": [
    {
     "name": "stdout",
     "output_type": "stream",
     "text": [
      "<Service at https://sit.lutry.ch/arcgis/admin/services/Hosted/Cadastre_Lutry_64000to7_031022.VectorTileServer>\n",
      "<Service at https://sit.lutry.ch/arcgis/admin/services/Hosted/Jorat_cadastre.VectorTileServer>\n",
      "<Service at https://sit.lutry.ch/arcgis/admin/services/Hosted/ombrage_mnt_2019.MapServer>\n",
      "<Service at https://sit.lutry.ch/arcgis/admin/services/Hosted/orthophoto_2020.MapServer>\n",
      "<Service at https://sit.lutry.ch/arcgis/admin/services/Hosted/Sans_fond_de_carte.MapServer>\n",
      "<Service at https://sit.lutry.ch/arcgis/admin/services/System/CachingControllers.GPServer>\n",
      "<Service at https://sit.lutry.ch/arcgis/admin/services/System/CachingTools.GPServer>\n",
      "<Service at https://sit.lutry.ch/arcgis/admin/services/System/CachingToolsEx.GPServer>\n",
      "<Service at https://sit.lutry.ch/arcgis/admin/services/System/DistributedWorker.GPServer>\n",
      "<Service at https://sit.lutry.ch/arcgis/admin/services/System/DynamicMappingHost.MapServer>\n",
      "<Service at https://sit.lutry.ch/arcgis/admin/services/System/FeatureServiceToolsEx.GPServer>\n",
      "<Service at https://sit.lutry.ch/arcgis/admin/services/System/GeoAnalyticsManagement.GPServer>\n",
      "<Service at https://sit.lutry.ch/arcgis/admin/services/System/GeoAnalyticsTools.GPServer>\n",
      "<Service at https://sit.lutry.ch/arcgis/admin/services/System/LocationReferencingSystemTools.GPServer>\n",
      "<Service at https://sit.lutry.ch/arcgis/admin/services/System/OrthomappingTools.GPServer>\n",
      "<Service at https://sit.lutry.ch/arcgis/admin/services/System/ParcelFabricTools.GPServer>\n",
      "<Service at https://sit.lutry.ch/arcgis/admin/services/System/PublishingTools.GPServer>\n",
      "<Service at https://sit.lutry.ch/arcgis/admin/services/System/PublishingToolsEx.GPServer>\n",
      "<Service at https://sit.lutry.ch/arcgis/admin/services/System/RasterAnalysisTools.GPServer>\n",
      "<Service at https://sit.lutry.ch/arcgis/admin/services/System/RasterProcessing.ImageServer>\n",
      "<Service at https://sit.lutry.ch/arcgis/admin/services/System/RasterProcessingGPU.ImageServer>\n",
      "<Service at https://sit.lutry.ch/arcgis/admin/services/System/RasterRendering.ImageServer>\n",
      "<Service at https://sit.lutry.ch/arcgis/admin/services/System/ReportingTools.GPServer>\n",
      "<Service at https://sit.lutry.ch/arcgis/admin/services/System/SceneCachingControllers.GPServer>\n",
      "<Service at https://sit.lutry.ch/arcgis/admin/services/System/SceneCachingTools.GPServer>\n",
      "<Service at https://sit.lutry.ch/arcgis/admin/services/System/SpatialAnalysisTools.GPServer>\n",
      "<Service at https://sit.lutry.ch/arcgis/admin/services/System/SyncTools.GPServer>\n",
      "<Service at https://sit.lutry.ch/arcgis/admin/services/System/SyncToolsEx.GPServer>\n",
      "<Service at https://sit.lutry.ch/arcgis/admin/services/System/UtilityNetworkTools.GPServer>\n",
      "<Service at https://sit.lutry.ch/arcgis/admin/services/System/ValidationTools.GPServer>\n",
      "<Service at https://sit.lutry.ch/arcgis/admin/services/Utilities/GeocodingTools.GPServer>\n",
      "<Service at https://sit.lutry.ch/arcgis/admin/services/Utilities/Geometry.GeometryServer>\n",
      "<Service at https://sit.lutry.ch/arcgis/admin/services/Utilities/OfflinePackaging.GPServer>\n",
      "<Service at https://sit.lutry.ch/arcgis/admin/services/Utilities/PrintingTools.GPServer>\n",
      "<Service at https://sit.lutry.ch/arcgis/admin/services/Utilities/RasterUtilities.GPServer>\n",
      "<Service at https://sit.lutry.ch/arcgis/admin/services/APOL_cimeti%C3%A8re_Edition.MapServer>\n",
      "<Service at https://sit.lutry.ch/arcgis/admin/services/APOL_cimeti%C3%A8re_Repr%C3%A9sentation.MapServer>\n",
      "<Service at https://sit.lutry.ch/arcgis/admin/services/AR_Recensement_architectural_PUB_INT.MapServer>\n",
      "<Service at https://sit.lutry.ch/arcgis/admin/services/Biens_fonds_communaux.MapServer>\n",
      "<Service at https://sit.lutry.ch/arcgis/admin/services/Bras_mort.MapServer>\n",
      "<Service at https://sit.lutry.ch/arcgis/admin/services/CA_Classement_des_arbres_INT.MapServer>\n",
      "<Service at https://sit.lutry.ch/arcgis/admin/services/CA_Classement_des_arbres_PUB.MapServer>\n",
      "<Service at https://sit.lutry.ch/arcgis/admin/services/CA_Relev%C3%A9_2020.MapServer>\n",
      "<Service at https://sit.lutry.ch/arcgis/admin/services/Cadastre_Lutry_sans_label.MapServer>\n",
      "<Service at https://sit.lutry.ch/arcgis/admin/services/Cadastre_parcelles_Jorat.MapServer>\n",
      "<Service at https://sit.lutry.ch/arcgis/admin/services/Cadastre_SILY.MapServer>\n",
      "<Service at https://sit.lutry.ch/arcgis/admin/services/Chantiers_interne_publication.MapServer>\n",
      "<Service at https://sit.lutry.ch/arcgis/admin/services/Chantiers_previsonnels_public.MapServer>\n",
      "<Service at https://sit.lutry.ch/arcgis/admin/services/Communication_detail.MapServer>\n",
      "<Service at https://sit.lutry.ch/arcgis/admin/services/Communication_portal.MapServer>\n",
      "<Service at https://sit.lutry.ch/arcgis/admin/services/Comparaison_du_plan_de_CA_avec_le_relev%C3%A9_2020.MapServer>\n",
      "<Service at https://sit.lutry.ch/arcgis/admin/services/Compteurs.MapServer>\n",
      "<Service at https://sit.lutry.ch/arcgis/admin/services/Consultation_introduction_administration.MapServer>\n",
      "<Service at https://sit.lutry.ch/arcgis/admin/services/Courbes_de_niveau.MapServer>\n",
      "<Service at https://sit.lutry.ch/arcgis/admin/services/CR_Classification_des_routes_PUB_INT.MapServer>\n",
      "<Service at https://sit.lutry.ch/arcgis/admin/services/DN_Dangers_naturels_PUB_INT.MapServer>\n",
      "<Service at https://sit.lutry.ch/arcgis/admin/services/Eau_conduite_PN10_12_5.MapServer>\n",
      "<Service at https://sit.lutry.ch/arcgis/admin/services/Eau_Detail.MapServer>\n",
      "<Service at https://sit.lutry.ch/arcgis/admin/services/Eau_portal.MapServer>\n",
      "<Service at https://sit.lutry.ch/arcgis/admin/services/Eclairage_public_detail.MapServer>\n",
      "<Service at https://sit.lutry.ch/arcgis/admin/services/Eclairage_public_portal.MapServer>\n",
      "<Service at https://sit.lutry.ch/arcgis/admin/services/Eclairage_public_secteur_alim.MapServer>\n",
      "<Service at https://sit.lutry.ch/arcgis/admin/services/Eclairage_public_sources_lumineuses.MapServer>\n",
      "<Service at https://sit.lutry.ch/arcgis/admin/services/Edition_chantiers.MapServer>\n",
      "<Service at https://sit.lutry.ch/arcgis/admin/services/Edition_feature_services.MapServer>\n",
      "<Service at https://sit.lutry.ch/arcgis/admin/services/EE_TEMP_Assainissement_INT.MapServer>\n",
      "<Service at https://sit.lutry.ch/arcgis/admin/services/EE_TEMP_Assainissement_PUB.MapServer>\n",
      "<Service at https://sit.lutry.ch/arcgis/admin/services/EE_WEB_Assainissement_INT.MapServer>\n",
      "<Service at https://sit.lutry.ch/arcgis/admin/services/Electricite_Detail.MapServer>\n",
      "<Service at https://sit.lutry.ch/arcgis/admin/services/Electricite_portal.MapServer>\n",
      "<Service at https://sit.lutry.ch/arcgis/admin/services/ExportReportToPDF.GPServer>\n",
      "<Service at https://sit.lutry.ch/arcgis/admin/services/ExportReportToPDF2.GPServer>\n",
      "<Service at https://sit.lutry.ch/arcgis/admin/services/Fontaines_communales.MapServer>\n",
      "<Service at https://sit.lutry.ch/arcgis/admin/services/Gaz_detail.MapServer>\n",
      "<Service at https://sit.lutry.ch/arcgis/admin/services/Gaz_portal.MapServer>\n",
      "<Service at https://sit.lutry.ch/arcgis/admin/services/Implantation_WMS.MapServer>\n",
      "<Service at https://sit.lutry.ch/arcgis/admin/services/Impression_SILY_Consultation.GPServer>\n",
      "<Service at https://sit.lutry.ch/arcgis/admin/services/LCR_Limites_de_construction_des_routes_INT.MapServer>\n",
      "<Service at https://sit.lutry.ch/arcgis/admin/services/LCR_Limites_de_construction_des_routes_PUB.MapServer>\n",
      "<Service at https://sit.lutry.ch/arcgis/admin/services/MB_balade.MapServer>\n",
      "<Service at https://sit.lutry.ch/arcgis/admin/services/MB_Edition_stationnement_et_macarons.MapServer>\n",
      "<Service at https://sit.lutry.ch/arcgis/admin/services/MB_Recherche_stationnement.MapServer>\n",
      "<Service at https://sit.lutry.ch/arcgis/admin/services/MB_Stationnement_et_secteurs_macarons.MapServer>\n",
      "<Service at https://sit.lutry.ch/arcgis/admin/services/MB_Transp_scolaire_ln.MapServer>\n",
      "<Service at https://sit.lutry.ch/arcgis/admin/services/MB_Transports_publics.MapServer>\n",
      "<Service at https://sit.lutry.ch/arcgis/admin/services/MB_Trottoir.MapServer>\n",
      "<Service at https://sit.lutry.ch/arcgis/admin/services/MB_Zone_30.MapServer>\n",
      "<Service at https://sit.lutry.ch/arcgis/admin/services/mo_cadastre_interactif.MapServer>\n",
      "<Service at https://sit.lutry.ch/arcgis/admin/services/MO_Lieu_dit.MapServer>\n",
      "<Service at https://sit.lutry.ch/arcgis/admin/services/OI_Collecte_dechets_PI.MapServer>\n",
      "<Service at https://sit.lutry.ch/arcgis/admin/services/OI_Entretien_ouvrage_INT.MapServer>\n",
      "<Service at https://sit.lutry.ch/arcgis/admin/services/OI_Fontaines_communales_INT_202202280805.MapServer>\n",
      "<Service at https://sit.lutry.ch/arcgis/admin/services/OI_Mur_de_sout%C3%A8nement_INT.MapServer>\n",
      "<Service at https://sit.lutry.ch/arcgis/admin/services/OI_Parcelles_communales_%C3%A0_entretenir.MapServer>\n",
      "<Service at https://sit.lutry.ch/arcgis/admin/services/OI_Vignes_communales.MapServer>\n",
      "<Service at https://sit.lutry.ch/arcgis/admin/services/Orthophoto_2020.MapServer>\n",
      "<Service at https://sit.lutry.ch/arcgis/admin/services/PA_Degr%C3%A9s_de_sensibilit%C3%A9_au_bruit_PUB_INT.MapServer>\n",
      "<Service at https://sit.lutry.ch/arcgis/admin/services/PA_Plan_d_affectation_PUB_INT.MapServer>\n",
      "<Service at https://sit.lutry.ch/arcgis/admin/services/Parcelles.MapServer>\n",
      "<Service at https://sit.lutry.ch/arcgis/admin/services/passage_pieton.MapServer>\n",
      "<Service at https://sit.lutry.ch/arcgis/admin/services/PE100_BT.MapServer>\n",
      "<Service at https://sit.lutry.ch/arcgis/admin/services/PE_Protection_des_eaux_souterraines_PUB_INT.MapServer>\n",
      "<Service at https://sit.lutry.ch/arcgis/admin/services/Planification_eau.MapServer>\n",
      "<Service at https://sit.lutry.ch/arcgis/admin/services/Planification_Elec.MapServer>\n",
      "<Service at https://sit.lutry.ch/arcgis/admin/services/RCB_BATIMENT.MapServer>\n",
      "<Service at https://sit.lutry.ch/arcgis/admin/services/recherche_num_chbr.MapServer>\n",
      "<Service at https://sit.lutry.ch/arcgis/admin/services/RP_PGA_Propre_Limites_foresti%C3%A8res_2020.MapServer>\n",
      "<Service at https://sit.lutry.ch/arcgis/admin/services/SDIS_WMS.MapServer>\n",
      "<Service at https://sit.lutry.ch/arcgis/admin/services/Source_Jorat.MapServer>\n",
      "<Service at https://sit.lutry.ch/arcgis/admin/services/Source_Jorat_Courbes_de_niveau.MapServer>\n",
      "<Service at https://sit.lutry.ch/arcgis/admin/services/Source_Jorat_Ortophoto.MapServer>\n",
      "<Service at https://sit.lutry.ch/arcgis/admin/services/Swiss4Net.MapServer>\n",
      "<Service at https://sit.lutry.ch/arcgis/admin/services/Swiss4Net_trac%C3%A9_r%C3%A9seau_FTTH.MapServer>\n",
      "<Service at https://sit.lutry.ch/arcgis/admin/services/Vannes_recherche.MapServer>\n",
      "<Service at https://sit.lutry.ch/arcgis/admin/services/wms_cadastre_sily.MapServer>\n",
      "<Service at https://sit.lutry.ch/arcgis/admin/services/zone_releve_GNSS.MapServer>\n"
     ]
    }
   ],
   "source": [
    "for folder in services.folders:\n",
    "    for s in services.list(folder):\n",
    "        print(s)"
   ]
  },
  {
   "cell_type": "markdown",
   "metadata": {
    "heading_collapsed": true,
    "hidden": true
   },
   "source": [
    "#### Control a Service's State"
   ]
  },
  {
   "cell_type": "markdown",
   "metadata": {
    "hidden": true
   },
   "source": [
    "- `start`, `stop` and `restart` services"
   ]
  },
  {
   "cell_type": "code",
   "execution_count": 59,
   "metadata": {
    "hidden": true
   },
   "outputs": [
    {
     "data": {
      "text/plain": [
       "<Service at https://sit.lutry.ch/arcgis/admin/services/zone_releve_GNSS.MapServer>"
      ]
     },
     "execution_count": 59,
     "metadata": {},
     "output_type": "execute_result"
    }
   ],
   "source": [
    "for service in services.list():\n",
    "    if service.properties.serviceName == 'SampleWorldCities':\n",
    "        break\n",
    "service"
   ]
  },
  {
   "cell_type": "markdown",
   "metadata": {
    "hidden": true
   },
   "source": [
    "**Check the Service Status**\n",
    "\n",
    "- Shows if the services is running or not"
   ]
  },
  {
   "cell_type": "code",
   "execution_count": 60,
   "metadata": {
    "hidden": true
   },
   "outputs": [
    {
     "data": {
      "text/plain": [
       "{'configuredState': 'STARTED', 'realTimeState': 'STARTED'}"
      ]
     },
     "execution_count": 60,
     "metadata": {},
     "output_type": "execute_result"
    }
   ],
   "source": [
    "service.status"
   ]
  },
  {
   "cell_type": "code",
   "execution_count": null,
   "metadata": {
    "hidden": true
   },
   "outputs": [],
   "source": [
    "#service.stop()"
   ]
  },
  {
   "cell_type": "code",
   "execution_count": null,
   "metadata": {
    "hidden": true
   },
   "outputs": [],
   "source": [
    "service.status"
   ]
  },
  {
   "cell_type": "code",
   "execution_count": null,
   "metadata": {
    "hidden": true
   },
   "outputs": [],
   "source": [
    "#service.start()"
   ]
  },
  {
   "cell_type": "code",
   "execution_count": null,
   "metadata": {
    "hidden": true
   },
   "outputs": [],
   "source": [
    "service.status"
   ]
  },
  {
   "cell_type": "markdown",
   "metadata": {
    "heading_collapsed": true,
    "hidden": true
   },
   "source": [
    "### Modifying a Service"
   ]
  },
  {
   "cell_type": "markdown",
   "metadata": {
    "hidden": true
   },
   "source": [
    "- modify extensions, pooling, etc..."
   ]
  },
  {
   "cell_type": "code",
   "execution_count": null,
   "metadata": {
    "hidden": true
   },
   "outputs": [],
   "source": [
    "for service in services.list():\n",
    "    if service.properties.serviceName == 'SampleWorldCities':\n",
    "        break\n",
    "service"
   ]
  },
  {
   "cell_type": "code",
   "execution_count": null,
   "metadata": {
    "hidden": true
   },
   "outputs": [],
   "source": [
    "for ext in service.extensions:\n",
    "    if ext.typeName == \"KmlServer\":\n",
    "        ext.enabled = True\n",
    "[(ext.typeName, ext.enabled) for ext in service.extensions]"
   ]
  },
  {
   "cell_type": "markdown",
   "metadata": {
    "hidden": true
   },
   "source": [
    "### Publishing an SD File"
   ]
  },
  {
   "cell_type": "markdown",
   "metadata": {
    "hidden": true
   },
   "source": [
    "- directly publish SD file to server\n"
   ]
  },
  {
   "cell_type": "code",
   "execution_count": null,
   "metadata": {
    "hidden": true
   },
   "outputs": [],
   "source": [
    "fp = r\"./data/dino_AttachmentManager_basic.sd\"\n",
    "services.publish_sd(sd_file=fp)"
   ]
  },
  {
   "cell_type": "code",
   "execution_count": null,
   "metadata": {
    "hidden": true
   },
   "outputs": [],
   "source": [
    "s = services.list()[0]\n",
    "s.properties"
   ]
  },
  {
   "cell_type": "code",
   "execution_count": null,
   "metadata": {
    "hidden": true
   },
   "outputs": [],
   "source": [
    "s.delete()"
   ]
  },
  {
   "cell_type": "markdown",
   "metadata": {
    "hidden": true
   },
   "source": [
    "### Server Logs"
   ]
  },
  {
   "cell_type": "markdown",
   "metadata": {
    "hidden": true
   },
   "source": [
    "ArcGIS Server records events that occur, and any errors associated with those events, to logs. Logs are an important tool for monitoring and troubleshooting problems with your site. Information in the logs will help you identify errors and provide context on how to address problems"
   ]
  },
  {
   "cell_type": "code",
   "execution_count": null,
   "metadata": {
    "hidden": true
   },
   "outputs": [],
   "source": [
    "logs = server.logs\n",
    "logs"
   ]
  },
  {
   "cell_type": "code",
   "execution_count": null,
   "metadata": {
    "hidden": true
   },
   "outputs": [],
   "source": [
    "logs.settings"
   ]
  },
  {
   "cell_type": "markdown",
   "metadata": {
    "hidden": true
   },
   "source": [
    "#### Filtering and querying server logs"
   ]
  },
  {
   "cell_type": "code",
   "execution_count": null,
   "metadata": {
    "hidden": true
   },
   "outputs": [],
   "source": [
    "import datetime\n",
    "import pandas as pd\n",
    "now = datetime.datetime.now()\n",
    "start_time = now - datetime.timedelta(days=10)\n",
    "start_time"
   ]
  },
  {
   "cell_type": "code",
   "execution_count": null,
   "metadata": {
    "hidden": true
   },
   "outputs": [],
   "source": [
    "recent_logs = logs.query(start_time = start_time)\n",
    "\n",
    "#print a message as a sample\n",
    "recent_logs['logMessages']"
   ]
  },
  {
   "cell_type": "markdown",
   "metadata": {
    "hidden": true
   },
   "source": [
    "### Monitoring Server Usage"
   ]
  },
  {
   "cell_type": "markdown",
   "metadata": {
    "hidden": true
   },
   "source": [
    "ArcGIS Server records various service statistics, such as total requests, average response time and timeouts. Administrators and publishers can use this information to monitor service activity to better understand how clients are using services. For example, monitoring server statistics help you answer questions such as:\n",
    "\n",
    "- What is the total number of requests that my ArcGIS Server site handled during the past week?\n",
    "- How was the service request load distributed during the past month?\n",
    "- How are my services performing on an hourly basis?\n",
    "- What was the maximum number of service instances used at any given time for a particular service?"
   ]
  },
  {
   "cell_type": "code",
   "execution_count": 61,
   "metadata": {
    "hidden": true
   },
   "outputs": [
    {
     "data": {
      "text/plain": [
       "<ReportManager at https://sit.lutry.ch/arcgis/admin/usagereports>"
      ]
     },
     "execution_count": 61,
     "metadata": {},
     "output_type": "execute_result"
    }
   ],
   "source": [
    "usage = server.usage\n",
    "usage"
   ]
  },
  {
   "cell_type": "markdown",
   "metadata": {
    "hidden": true
   },
   "source": [
    "#### Using built-in report"
   ]
  },
  {
   "cell_type": "code",
   "execution_count": 62,
   "metadata": {
    "hidden": true
   },
   "outputs": [
    {
     "data": {
      "text/plain": [
       "[<Report at https://sit.lutry.ch/arcgis/admin/usagereports/1567600628932>,\n",
       " <Report at https://sit.lutry.ch/arcgis/admin/usagereports/1569411646180>,\n",
       " <Report at https://sit.lutry.ch/arcgis/admin/usagereports/1666691626620>,\n",
       " <Report at https://sit.lutry.ch/arcgis/admin/usagereports/1666691709895>,\n",
       " <Report at https://sit.lutry.ch/arcgis/admin/usagereports/1666691749135>,\n",
       " <Report at https://sit.lutry.ch/arcgis/admin/usagereports/1666698539670>,\n",
       " <Report at https://sit.lutry.ch/arcgis/admin/usagereports/1666698585505>,\n",
       " <Report at https://sit.lutry.ch/arcgis/admin/usagereports/Total%20requests%20for%20the%20last%207%20days>]"
      ]
     },
     "execution_count": 62,
     "metadata": {},
     "output_type": "execute_result"
    }
   ],
   "source": [
    "reports = usage.list()\n",
    "reports"
   ]
  },
  {
   "cell_type": "code",
   "execution_count": 63,
   "metadata": {
    "hidden": true
   },
   "outputs": [
    {
     "name": "stdout",
     "output_type": "stream",
     "text": [
      "1567600628932\n",
      "1569411646180\n",
      "1666691626620\n",
      "1666691709895\n",
      "1666691749135\n",
      "1666698539670\n",
      "1666698585505\n",
      "Total requests for the last 7 days\n"
     ]
    }
   ],
   "source": [
    "for r in reports:\n",
    "    print(r.properties['reportname'])"
   ]
  },
  {
   "cell_type": "markdown",
   "metadata": {
    "hidden": true
   },
   "source": [
    "#### Querying maximum response times for the last 7 days"
   ]
  },
  {
   "cell_type": "code",
   "execution_count": 64,
   "metadata": {
    "hidden": true
   },
   "outputs": [],
   "source": [
    "data = reports[0].query()"
   ]
  },
  {
   "cell_type": "code",
   "execution_count": 65,
   "metadata": {
    "hidden": true
   },
   "outputs": [],
   "source": [
    "from datetime import datetime\n",
    "import numpy as np\n",
    "import matplotlib.pyplot as plt\n",
    "import matplotlib.ticker as ticker\n",
    "%matplotlib inline"
   ]
  },
  {
   "cell_type": "code",
   "execution_count": 66,
   "metadata": {
    "hidden": true
   },
   "outputs": [
    {
     "data": {
      "image/png": "[encoded data removed]",
      "text/plain": [
       "<Figure size 432x288 with 1 Axes>"
      ]
     },
     "metadata": {
      "needs_background": "light"
     },
     "output_type": "display_data"
    }
   ],
   "source": [
    "#store reponse times in Y axis\n",
    "data_y = data['report']['report-data'][0][0]['data']\n",
    "\n",
    "#convert dates to readable dates and store in X axis\n",
    "data_x = [pd.to_datetime(datetime.fromtimestamp(d//1000)) \\\n",
    "          for d in data['report']['time-slices']]\n",
    "\n",
    "df = pd.DataFrame(list(zip(data_x, data_y)), columns=[\"date\", \"count\"])\n",
    "q = df['count'].isnull() # change NaN values to 0\n",
    "df.loc[q, 'count'] = 0\n",
    "df.index = df['date']\n",
    "df['count'] = df['count'] \n",
    "\n",
    "ax = df['count'].plot(kind='bar', x=df['date'])\n",
    "ticklabels = ['']*len(df.index)\n",
    "ticklabels[::4] = [item.strftime('%b %d') for item in df.index[::4]]\n",
    "ax.xaxis.set_major_formatter(ticker.FixedFormatter(ticklabels))\n",
    "ax.set_title('Maximum reponse time in the last 7 days')\n",
    "ax.set_ylabel('Time in seconds')\n",
    "plt.gcf().autofmt_xdate()\n",
    "plt.show()"
   ]
  },
  {
   "cell_type": "markdown",
   "metadata": {
    "heading_collapsed": true,
    "hidden": true
   },
   "source": [
    "#### Creating Quick Reports\n",
    "\n",
    "- On the fly reporting\n",
    "- Data is not saved\n",
    "\n",
    "**Metrics Available**\n",
    "\n",
    "- RequestCount - the number of requests received\n",
    "- RequestsFailed - the number of requests that failed\n",
    "- RequestsTimedOut - the number of requests that timed out\n",
    "- RequestMaxResponseTime - the maximum response time\n",
    "- RequestAvgResponseTime - the average response time\n",
    "- ServiceActiveInstances - the maximum number of active (running) service instances sampled at 1 minute intervals, for a specified service\n"
   ]
  },
  {
   "cell_type": "code",
   "execution_count": 67,
   "metadata": {
    "hidden": true
   },
   "outputs": [
    {
     "data": {
      "text/plain": [
       "dict_keys(['report'])"
      ]
     },
     "execution_count": 67,
     "metadata": {},
     "output_type": "execute_result"
    }
   ],
   "source": [
    "data = usage.quick_report(since=\"LAST_MONTH\", metrics=\"RequestCount\")\n",
    "data.keys()"
   ]
  },
  {
   "cell_type": "code",
   "execution_count": 68,
   "metadata": {
    "hidden": true
   },
   "outputs": [
    {
     "data": {
      "text/plain": [
       "(list, 30)"
      ]
     },
     "execution_count": 68,
     "metadata": {},
     "output_type": "execute_result"
    }
   ],
   "source": [
    "type(data['report']['report-data']), len(data['report']['time-slices'])"
   ]
  },
  {
   "cell_type": "code",
   "execution_count": 69,
   "metadata": {
    "hidden": true
   },
   "outputs": [],
   "source": [
    "import pandas as pd\n",
    "data_flat = {\n",
    "    #'report_data' : data['report']['report-data'],\n",
    "    'time_slices' : data['report']['time-slices']\n",
    "}\n",
    "for d in data['report']['report-data'][0]:\n",
    "    data_flat[d['metric-type']] = d['data']"
   ]
  },
  {
   "cell_type": "code",
   "execution_count": 70,
   "metadata": {
    "hidden": true
   },
   "outputs": [
    {
     "data": {
      "text/html": [
       "<div>\n",
       "<style scoped>\n",
       "    .dataframe tbody tr th:only-of-type {\n",
       "        vertical-align: middle;\n",
       "    }\n",
       "\n",
       "    .dataframe tbody tr th {\n",
       "        vertical-align: top;\n",
       "    }\n",
       "\n",
       "    .dataframe thead th {\n",
       "        text-align: right;\n",
       "    }\n",
       "</style>\n",
       "<table border=\"1\" class=\"dataframe\">\n",
       "  <thead>\n",
       "    <tr style=\"text-align: right;\">\n",
       "      <th></th>\n",
       "      <th>time_slices</th>\n",
       "      <th>RequestCount</th>\n",
       "    </tr>\n",
       "  </thead>\n",
       "  <tbody>\n",
       "    <tr>\n",
       "      <th>25</th>\n",
       "      <td>1667851200000</td>\n",
       "      <td>3141</td>\n",
       "    </tr>\n",
       "    <tr>\n",
       "      <th>26</th>\n",
       "      <td>1667937600000</td>\n",
       "      <td>5157</td>\n",
       "    </tr>\n",
       "    <tr>\n",
       "      <th>27</th>\n",
       "      <td>1668024000000</td>\n",
       "      <td>4455</td>\n",
       "    </tr>\n",
       "    <tr>\n",
       "      <th>28</th>\n",
       "      <td>1668110400000</td>\n",
       "      <td>2420</td>\n",
       "    </tr>\n",
       "    <tr>\n",
       "      <th>29</th>\n",
       "      <td>1668196800000</td>\n",
       "      <td>2706</td>\n",
       "    </tr>\n",
       "  </tbody>\n",
       "</table>\n",
       "</div>"
      ],
      "text/plain": [
       "      time_slices  RequestCount\n",
       "25  1667851200000          3141\n",
       "26  1667937600000          5157\n",
       "27  1668024000000          4455\n",
       "28  1668110400000          2420\n",
       "29  1668196800000          2706"
      ]
     },
     "execution_count": 70,
     "metadata": {},
     "output_type": "execute_result"
    }
   ],
   "source": [
    "pd.DataFrame(data_flat).tail()"
   ]
  },
  {
   "cell_type": "code",
   "execution_count": 73,
   "metadata": {},
   "outputs": [
    {
     "data": {
      "image/png": "[encoded data removed]",
      "text/plain": [
       "<Figure size 432x288 with 1 Axes>"
      ]
     },
     "metadata": {
      "needs_background": "light"
     },
     "output_type": "display_data"
    }
   ],
   "source": [
    "#store reponse times in Y axis\n",
    "data_y = data_flat[\"RequestCount\"]\n",
    "\n",
    "#convert dates to readable dates and store in X axis\n",
    "data_x = [pd.to_datetime(datetime.fromtimestamp(d//1000)) \\\n",
    "          for d in data_flat['time_slices']]\n",
    "\n",
    "df = pd.DataFrame(list(zip(data_x, data_y)), columns=[\"date\", \"count\"])\n",
    "q = df['count'].isnull() # change NaN values to 0\n",
    "df.loc[q, 'count'] = 0\n",
    "df.index = df['date']\n",
    "df['count'] = df['count'] \n",
    "\n",
    "ax = df['count'].plot(kind='bar', x=df['date'])\n",
    "ticklabels = ['']*len(df.index)\n",
    "ticklabels[::4] = [item.strftime('%b %d') for item in df.index[::4]]\n",
    "ax.xaxis.set_major_formatter(ticker.FixedFormatter(ticklabels))\n",
    "ax.set_title('Requests over the last 30 days')\n",
    "ax.set_ylabel('Number of requests')\n",
    "plt.gcf().autofmt_xdate()\n",
    "plt.show()"
   ]
  },
  {
   "cell_type": "markdown",
   "metadata": {},
   "source": [
    "## Questions?"
   ]
  }
 ],
 "metadata": {
  "kernelspec": {
   "display_name": "Python 3.9.11 64-bit",
   "language": "python",
   "name": "python3"
  },
  "language_info": {
   "codemirror_mode": {
    "name": "ipython",
    "version": 3
   },
   "file_extension": ".py",
   "mimetype": "text/x-python",
   "name": "python",
   "nbconvert_exporter": "python",
   "pygments_lexer": "ipython3",
   "version": "3.9.11"
  },
  "vscode": {
   "interpreter": {
    "hash": "fe8c5fb7e40788822c7f73d608ac244ced829a0e6d44553add5504e0489f009a"
   }
  }
 },
 "nbformat": 4,
 "nbformat_minor": 2
}
