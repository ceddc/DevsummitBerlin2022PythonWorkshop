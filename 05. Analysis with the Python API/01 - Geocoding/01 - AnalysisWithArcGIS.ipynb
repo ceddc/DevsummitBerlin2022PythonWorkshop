{
 "cells": [
  {
   "cell_type": "markdown",
   "metadata": {},
   "source": [
    "# Geocoding"
   ]
  },
  {
   "cell_type": "code",
   "execution_count": 6,
   "metadata": {},
   "outputs": [],
   "source": [
    "from arcgis.gis import GIS\n",
    "from IPython.display import display\n",
    "import pandas as pd\n",
    "from arcgis.geocoding import geocode, reverse_geocode"
   ]
  },
  {
   "cell_type": "code",
   "execution_count": 8,
   "metadata": {},
   "outputs": [],
   "source": [
    "gis = GIS(profile='your_online_profile')"
   ]
  },
  {
   "cell_type": "markdown",
   "metadata": {},
   "source": [
    "### Access and Geocode Address Data"
   ]
  },
  {
   "cell_type": "code",
   "execution_count": 21,
   "metadata": {},
   "outputs": [
    {
     "data": {
      "text/html": [
       "<div>\n",
       "<style scoped>\n",
       "    .dataframe tbody tr th:only-of-type {\n",
       "        vertical-align: middle;\n",
       "    }\n",
       "\n",
       "    .dataframe tbody tr th {\n",
       "        vertical-align: top;\n",
       "    }\n",
       "\n",
       "    .dataframe thead th {\n",
       "        text-align: right;\n",
       "    }\n",
       "</style>\n",
       "<table border=\"1\" class=\"dataframe\">\n",
       "  <thead>\n",
       "    <tr style=\"text-align: right;\">\n",
       "      <th></th>\n",
       "      <th>First_Name</th>\n",
       "      <th>Last_Name</th>\n",
       "      <th>Gender</th>\n",
       "      <th>Address</th>\n",
       "      <th>Address2</th>\n",
       "      <th>City</th>\n",
       "      <th>State</th>\n",
       "      <th>ZIP</th>\n",
       "      <th>Volunteer</th>\n",
       "      <th>Donate</th>\n",
       "    </tr>\n",
       "  </thead>\n",
       "  <tbody>\n",
       "    <tr>\n",
       "      <th>0</th>\n",
       "      <td>Guillermo</td>\n",
       "      <td>Abaye</td>\n",
       "      <td>M</td>\n",
       "      <td>5924 Sandy Rdg</td>\n",
       "      <td>NaN</td>\n",
       "      <td>Elkridge</td>\n",
       "      <td>MD</td>\n",
       "      <td>21075</td>\n",
       "      <td>yes</td>\n",
       "      <td>2700</td>\n",
       "    </tr>\n",
       "    <tr>\n",
       "      <th>1</th>\n",
       "      <td>Jack</td>\n",
       "      <td>Abel</td>\n",
       "      <td>F</td>\n",
       "      <td>8931 Footed Rdg</td>\n",
       "      <td>NaN</td>\n",
       "      <td>Columbia</td>\n",
       "      <td>MD</td>\n",
       "      <td>21045</td>\n",
       "      <td>no</td>\n",
       "      <td>0</td>\n",
       "    </tr>\n",
       "    <tr>\n",
       "      <th>2</th>\n",
       "      <td>Mary</td>\n",
       "      <td>Abel</td>\n",
       "      <td>M</td>\n",
       "      <td>11516 Jamestown Ct</td>\n",
       "      <td>NaN</td>\n",
       "      <td>Laurel</td>\n",
       "      <td>MD</td>\n",
       "      <td>20723</td>\n",
       "      <td>no</td>\n",
       "      <td>0</td>\n",
       "    </tr>\n",
       "    <tr>\n",
       "      <th>3</th>\n",
       "      <td>Brandon</td>\n",
       "      <td>Aboozar</td>\n",
       "      <td>M</td>\n",
       "      <td>7308 Carved Stone</td>\n",
       "      <td>NaN</td>\n",
       "      <td>Columbia</td>\n",
       "      <td>MD</td>\n",
       "      <td>21045</td>\n",
       "      <td>yes</td>\n",
       "      <td>0</td>\n",
       "    </tr>\n",
       "    <tr>\n",
       "      <th>4</th>\n",
       "      <td>Jeffrey</td>\n",
       "      <td>Abraham</td>\n",
       "      <td>F</td>\n",
       "      <td>8214 Arbor Meadows Ln</td>\n",
       "      <td>NaN</td>\n",
       "      <td>Columbia</td>\n",
       "      <td>MD</td>\n",
       "      <td>21045</td>\n",
       "      <td>no</td>\n",
       "      <td>0</td>\n",
       "    </tr>\n",
       "  </tbody>\n",
       "</table>\n",
       "</div>"
      ],
      "text/plain": [
       "  First_Name Last_Name Gender                Address Address2      City State  \\\n",
       "0  Guillermo     Abaye      M         5924 Sandy Rdg      NaN  Elkridge    MD   \n",
       "1       Jack      Abel      F        8931 Footed Rdg      NaN  Columbia    MD   \n",
       "2       Mary      Abel      M     11516 Jamestown Ct      NaN    Laurel    MD   \n",
       "3    Brandon   Aboozar      M      7308 Carved Stone      NaN  Columbia    MD   \n",
       "4    Jeffrey   Abraham      F  8214 Arbor Meadows Ln      NaN  Columbia    MD   \n",
       "\n",
       "     ZIP Volunteer  Donate  \n",
       "0  21075       yes    2700  \n",
       "1  21045        no       0  \n",
       "2  20723        no       0  \n",
       "3  21045       yes       0  \n",
       "4  21045        no       0  "
      ]
     },
     "execution_count": 21,
     "metadata": {},
     "output_type": "execute_result"
    }
   ],
   "source": [
    "voter_file = gis.content.get(\"57894e2fb17b47b08c2608887a8e4897\")\n",
    "csv_file = voter_file.download(save_path=r\"c:\\temp\", file_name=\"address.csv\" )\n",
    "df = pd.read_csv(csv_file, encoding=\"ISO-8859-1\")\n",
    "df.head()"
   ]
  },
  {
   "cell_type": "code",
   "execution_count": 9,
   "metadata": {},
   "outputs": [
    {
     "data": {
      "text/html": [
       "<div>\n",
       "<style scoped>\n",
       "    .dataframe tbody tr th:only-of-type {\n",
       "        vertical-align: middle;\n",
       "    }\n",
       "\n",
       "    .dataframe tbody tr th {\n",
       "        vertical-align: top;\n",
       "    }\n",
       "\n",
       "    .dataframe thead th {\n",
       "        text-align: right;\n",
       "    }\n",
       "</style>\n",
       "<table border=\"1\" class=\"dataframe\">\n",
       "  <thead>\n",
       "    <tr style=\"text-align: right;\">\n",
       "      <th></th>\n",
       "      <th>First_Name</th>\n",
       "      <th>Last_Name</th>\n",
       "      <th>Gender</th>\n",
       "      <th>Address</th>\n",
       "      <th>Address2</th>\n",
       "      <th>City</th>\n",
       "      <th>State</th>\n",
       "      <th>ZIP</th>\n",
       "      <th>Volunteer</th>\n",
       "      <th>Donate</th>\n",
       "    </tr>\n",
       "  </thead>\n",
       "  <tbody>\n",
       "    <tr>\n",
       "      <th>0</th>\n",
       "      <td>Guillermo</td>\n",
       "      <td>Abaye</td>\n",
       "      <td>M</td>\n",
       "      <td>5924 Sandy Rdg</td>\n",
       "      <td>NaN</td>\n",
       "      <td>Elkridge</td>\n",
       "      <td>MD</td>\n",
       "      <td>21075</td>\n",
       "      <td>yes</td>\n",
       "      <td>2700</td>\n",
       "    </tr>\n",
       "    <tr>\n",
       "      <th>1</th>\n",
       "      <td>Jack</td>\n",
       "      <td>Abel</td>\n",
       "      <td>F</td>\n",
       "      <td>8931 Footed Rdg</td>\n",
       "      <td>NaN</td>\n",
       "      <td>Columbia</td>\n",
       "      <td>MD</td>\n",
       "      <td>21045</td>\n",
       "      <td>no</td>\n",
       "      <td>0</td>\n",
       "    </tr>\n",
       "    <tr>\n",
       "      <th>2</th>\n",
       "      <td>Mary</td>\n",
       "      <td>Abel</td>\n",
       "      <td>M</td>\n",
       "      <td>11516 Jamestown Ct</td>\n",
       "      <td>NaN</td>\n",
       "      <td>Laurel</td>\n",
       "      <td>MD</td>\n",
       "      <td>20723</td>\n",
       "      <td>no</td>\n",
       "      <td>0</td>\n",
       "    </tr>\n",
       "    <tr>\n",
       "      <th>3</th>\n",
       "      <td>Brandon</td>\n",
       "      <td>Aboozar</td>\n",
       "      <td>M</td>\n",
       "      <td>7308 Carved Stone</td>\n",
       "      <td>NaN</td>\n",
       "      <td>Columbia</td>\n",
       "      <td>MD</td>\n",
       "      <td>21045</td>\n",
       "      <td>yes</td>\n",
       "      <td>0</td>\n",
       "    </tr>\n",
       "    <tr>\n",
       "      <th>4</th>\n",
       "      <td>Jeffrey</td>\n",
       "      <td>Abraham</td>\n",
       "      <td>F</td>\n",
       "      <td>8214 Arbor Meadows Ln</td>\n",
       "      <td>NaN</td>\n",
       "      <td>Columbia</td>\n",
       "      <td>MD</td>\n",
       "      <td>21045</td>\n",
       "      <td>no</td>\n",
       "      <td>0</td>\n",
       "    </tr>\n",
       "  </tbody>\n",
       "</table>\n",
       "</div>"
      ],
      "text/plain": [
       "  First_Name Last_Name Gender                Address Address2      City State  \\\n",
       "0  Guillermo     Abaye      M         5924 Sandy Rdg      NaN  Elkridge    MD   \n",
       "1       Jack      Abel      F        8931 Footed Rdg      NaN  Columbia    MD   \n",
       "2       Mary      Abel      M     11516 Jamestown Ct      NaN    Laurel    MD   \n",
       "3    Brandon   Aboozar      M      7308 Carved Stone      NaN  Columbia    MD   \n",
       "4    Jeffrey   Abraham      F  8214 Arbor Meadows Ln      NaN  Columbia    MD   \n",
       "\n",
       "     ZIP Volunteer  Donate  \n",
       "0  21075       yes    2700  \n",
       "1  21045        no       0  \n",
       "2  20723        no       0  \n",
       "3  21045       yes       0  \n",
       "4  21045        no       0  "
      ]
     },
     "execution_count": 9,
     "metadata": {},
     "output_type": "execute_result"
    }
   ],
   "source": [
    "## Warning Geocoding == credits\n",
    "df = df.head()\n",
    "df"
   ]
  },
  {
   "cell_type": "code",
   "execution_count": 5,
   "metadata": {},
   "outputs": [
    {
     "data": {
      "text/plain": [
       "<FeatureCollection>"
      ]
     },
     "execution_count": 5,
     "metadata": {},
     "output_type": "execute_result"
    }
   ],
   "source": [
    "## Warning Geocoding == credits\n",
    ".geocoded_fc = gis.content.import_data(df=df)\n",
    "geocoded_fc"
   ]
  },
  {
   "cell_type": "code",
   "execution_count": 6,
   "metadata": {},
   "outputs": [
    {
     "data": {
      "application/vnd.jupyter.widget-view+json": {
       "model_id": "7693bbdaee4347218137ae8384471f54",
       "version_major": 2,
       "version_minor": 0
      },
      "text/plain": [
       "MapView(layout=Layout(height='400px', width='100%'))"
      ]
     },
     "metadata": {},
     "output_type": "display_data"
    },
    {
     "data": {
      "text/html": [
       "<div class=\"map-static-img-preview-59cd821d-d190-40c8-84a8-8edae17aaeba\"><img src=\"\"></img></div>"
      ],
      "text/plain": [
       "<IPython.core.display.HTML object>"
      ]
     },
     "metadata": {},
     "output_type": "display_data"
    },
    {
     "data": {
      "text/html": [
       "<div class=\"map-html-embed-preview-59cd821d-d190-40c8-84a8-8edae17aaeba\"></div>"
      ],
      "text/plain": [
       "<IPython.core.display.HTML object>"
      ]
     },
     "metadata": {},
     "output_type": "display_data"
    }
   ],
   "source": [
    "gc_map = gis.map(\"Maryland\")\n",
    "gc_map.extent = {'spatialReference': {'latestWkid': 3857, 'wkid': 102100},\n",
    "                 'xmin': -8586268.28378512,\n",
    "                 'ymin': 4733599.9383514235,\n",
    "                 'xmax': -8511665.744178887,\n",
    "                 'ymax': 4764174.749665453}\n",
    "gc_map"
   ]
  },
  {
   "cell_type": "code",
   "execution_count": 7,
   "metadata": {},
   "outputs": [],
   "source": [
    "gc_map.add_layer(geocoded_fc)"
   ]
  },
  {
   "cell_type": "code",
   "execution_count": 9,
   "metadata": {},
   "outputs": [
    {
     "data": {
      "text/plain": [
       "[{\"geometry\": {\"x\": 13.392889988891527, \"y\": 52.512279970569665, \"spatialReference\": {\"wkid\": 4326, \"latestWkid\": 4326}}, \"attributes\": {\"Loc_name\": \"World\", \"Status\": \"T\", \"Score\": 100, \"Match_addr\": \"Hilton Hotel\", \"LongLabel\": \"Hilton Hotel, Mohrenstra\\u00dfe 30, 10117, Berlin, Mitte, Berlin, DEU\", \"ShortLabel\": \"Hilton Hotel\", \"Addr_type\": \"POI\", \"Type\": \"Parking\", \"PlaceName\": \"Hilton Hotel\", \"Place_addr\": \"Mohrenstra\\u00dfe 30, 10117, Berlin, Mitte, Berlin\", \"Phone\": \"+49 30-202300\", \"URL\": \"\", \"Rank\": 22, \"AddBldg\": \"\", \"AddNum\": \"30\", \"AddNumFrom\": \"\", \"AddNumTo\": \"\", \"AddRange\": \"\", \"Side\": \"R\", \"StPreDir\": \"\", \"StPreType\": \"\", \"StName\": \"Mohren\", \"StType\": \"stra\\u00dfe\", \"StDir\": \"\", \"BldgType\": \"\", \"BldgName\": \"\", \"LevelType\": \"\", \"LevelName\": \"\", \"UnitType\": \"\", \"UnitName\": \"\", \"SubAddr\": \"\", \"StAddr\": \"Mohrenstra\\u00dfe 30\", \"Block\": \"\", \"Sector\": \"\", \"Nbrhd\": \"\", \"District\": \"Mitte\", \"City\": \"Berlin\", \"MetroArea\": \"\", \"Subregion\": \"Berlin\", \"Region\": \"Berlin\", \"RegionAbbr\": \"BE\", \"Territory\": \"\", \"Zone\": \"\", \"Postal\": \"10117\", \"PostalExt\": \"\", \"Country\": \"DEU\", \"CntryName\": \"Deutschland\", \"LangCode\": \"GER\", \"Distance\": 0, \"X\": 13.392889988891527, \"Y\": 52.512279970569665, \"DisplayX\": 13.392820000000029, \"DisplayY\": 52.512170000000026, \"Xmin\": 13.387820000000028, \"Xmax\": 13.39782000000003, \"Ymin\": 52.50717000000002, \"Ymax\": 52.51717000000003, \"ExInfo\": \"\", \"OBJECTID\": 1}},\n",
       " {\"geometry\": {\"x\": 13.392969952247803, \"y\": 52.51228994503444, \"spatialReference\": {\"wkid\": 4326, \"latestWkid\": 4326}}, \"attributes\": {\"Loc_name\": \"World\", \"Status\": \"T\", \"Score\": 100, \"Match_addr\": \"Hilton\", \"LongLabel\": \"Hilton, Mohrenstra\\u00dfe 30, 10117, Berlin, Mitte, Berlin, DEU\", \"ShortLabel\": \"Hilton\", \"Addr_type\": \"POI\", \"Type\": \"Hotel\", \"PlaceName\": \"Hilton\", \"Place_addr\": \"Mohrenstra\\u00dfe 30, 10117, Berlin, Mitte, Berlin\", \"Phone\": \"+49 30-202300\", \"URL\": \"https://www.hilton.com/en/hotels/berhitw-hilton-berlin\", \"Rank\": 21, \"AddBldg\": \"\", \"AddNum\": \"30\", \"AddNumFrom\": \"\", \"AddNumTo\": \"\", \"AddRange\": \"\", \"Side\": \"R\", \"StPreDir\": \"\", \"StPreType\": \"\", \"StName\": \"Mohren\", \"StType\": \"stra\\u00dfe\", \"StDir\": \"\", \"BldgType\": \"\", \"BldgName\": \"\", \"LevelType\": \"\", \"LevelName\": \"\", \"UnitType\": \"\", \"UnitName\": \"\", \"SubAddr\": \"\", \"StAddr\": \"Mohrenstra\\u00dfe 30\", \"Block\": \"\", \"Sector\": \"\", \"Nbrhd\": \"\", \"District\": \"Mitte\", \"City\": \"Berlin\", \"MetroArea\": \"\", \"Subregion\": \"Berlin\", \"Region\": \"Berlin\", \"RegionAbbr\": \"BE\", \"Territory\": \"\", \"Zone\": \"\", \"Postal\": \"10117\", \"PostalExt\": \"\", \"Country\": \"DEU\", \"CntryName\": \"Federal Republic of Germany\", \"LangCode\": \"ENG\", \"Distance\": 0, \"X\": 13.392969952247803, \"Y\": 52.51228994503444, \"DisplayX\": 13.392820000000029, \"DisplayY\": 52.512170000000026, \"Xmin\": 13.387820000000028, \"Xmax\": 13.39782000000003, \"Ymin\": 52.50717000000002, \"Ymax\": 52.51717000000003, \"ExInfo\": \"\", \"OBJECTID\": 2}},\n",
       " {\"geometry\": {\"x\": 13.41890995556606, \"y\": 52.52453995614299, \"spatialReference\": {\"wkid\": 4326, \"latestWkid\": 4326}}, \"attributes\": {\"Loc_name\": \"World\", \"Status\": \"T\", \"Score\": 100, \"Match_addr\": \"Hilton\", \"LongLabel\": \"Hilton, Otto-Braun-Stra\\u00dfe 69, 10178, Berlin, Mitte, Berlin, DEU\", \"ShortLabel\": \"Hilton\", \"Addr_type\": \"POI\", \"Type\": \"Hotel\", \"PlaceName\": \"Hilton\", \"Place_addr\": \"Otto-Braun-Stra\\u00dfe 69, 10178, Berlin, Mitte, Berlin\", \"Phone\": \"+49 30-21308555\", \"URL\": \"http://hamptoninn3.hilton.com/en/hotels/berlin/hampton-by-hilton-berlin-city-centre-alexanderplatz-berhxhx/index.html?wt.mc_id=zda0de1hp2dmh3localsearch4dggeneric_apr56berhxhx7en8i1\", \"Rank\": 21, \"AddBldg\": \"\", \"AddNum\": \"69\", \"AddNumFrom\": \"\", \"AddNumTo\": \"\", \"AddRange\": \"\", \"Side\": \"L\", \"StPreDir\": \"\", \"StPreType\": \"\", \"StName\": \"Otto-Braun\", \"StType\": \"-Stra\\u00dfe\", \"StDir\": \"\", \"BldgType\": \"\", \"BldgName\": \"\", \"LevelType\": \"\", \"LevelName\": \"\", \"UnitType\": \"\", \"UnitName\": \"\", \"SubAddr\": \"\", \"StAddr\": \"Otto-Braun-Stra\\u00dfe 69\", \"Block\": \"\", \"Sector\": \"\", \"Nbrhd\": \"\", \"District\": \"Mitte\", \"City\": \"Berlin\", \"MetroArea\": \"\", \"Subregion\": \"Berlin\", \"Region\": \"Berlin\", \"RegionAbbr\": \"BE\", \"Territory\": \"\", \"Zone\": \"\", \"Postal\": \"10178\", \"PostalExt\": \"\", \"Country\": \"DEU\", \"CntryName\": \"Federal Republic of Germany\", \"LangCode\": \"ENG\", \"Distance\": 0, \"X\": 13.41890995556606, \"Y\": 52.52453995614299, \"DisplayX\": 13.418630000000064, \"DisplayY\": 52.52449000000007, \"Xmin\": 13.413630000000063, \"Xmax\": 13.423630000000065, \"Ymin\": 52.51949000000007, \"Ymax\": 52.529490000000074, \"ExInfo\": \"\", \"OBJECTID\": 3}},\n",
       " {\"geometry\": {\"x\": 13.392040000000065, \"y\": 52.51224000000008, \"spatialReference\": {\"wkid\": 4326, \"latestWkid\": 4326}}, \"attributes\": {\"Loc_name\": \"World\", \"Status\": \"M\", \"Score\": 97.07, \"Match_addr\": \"Hotel Hilton\", \"LongLabel\": \"Hotel Hilton, Mohrenstra\\u00dfe, 10117, Berlin, Mitte, Berlin, DEU\", \"ShortLabel\": \"Hotel Hilton\", \"Addr_type\": \"POI\", \"Type\": \"Taxi\", \"PlaceName\": \"Hotel Hilton\", \"Place_addr\": \"Mohrenstra\\u00dfe, 10117, Berlin, Mitte, Berlin\", \"Phone\": \"\", \"URL\": \"\", \"Rank\": 25, \"AddBldg\": \"\", \"AddNum\": \"\", \"AddNumFrom\": \"\", \"AddNumTo\": \"\", \"AddRange\": \"\", \"Side\": \"\", \"StPreDir\": \"\", \"StPreType\": \"\", \"StName\": \"Mohren\", \"StType\": \"stra\\u00dfe\", \"StDir\": \"\", \"BldgType\": \"\", \"BldgName\": \"\", \"LevelType\": \"\", \"LevelName\": \"\", \"UnitType\": \"\", \"UnitName\": \"\", \"SubAddr\": \"\", \"StAddr\": \"Mohrenstra\\u00dfe\", \"Block\": \"\", \"Sector\": \"\", \"Nbrhd\": \"\", \"District\": \"Mitte\", \"City\": \"Berlin\", \"MetroArea\": \"\", \"Subregion\": \"Berlin\", \"Region\": \"Berlin\", \"RegionAbbr\": \"BE\", \"Territory\": \"\", \"Zone\": \"\", \"Postal\": \"10117\", \"PostalExt\": \"\", \"Country\": \"DEU\", \"CntryName\": \"Deutschland\", \"LangCode\": \"GER\", \"Distance\": 0, \"X\": 13.392040000000065, \"Y\": 52.51224000000008, \"DisplayX\": 13.392040000000065, \"DisplayY\": 52.51224000000008, \"Xmin\": 13.387040000000065, \"Xmax\": 13.397040000000066, \"Ymin\": 52.507240000000074, \"Ymax\": 52.51724000000008, \"ExInfo\": \"\", \"OBJECTID\": 4}}]"
      ]
     },
     "execution_count": 9,
     "metadata": {},
     "output_type": "execute_result"
    }
   ],
   "source": [
    "## Geocode place names\n",
    "geocode_result = geocode(address=\"Hilton hotel, berlin, DE\", as_featureset=True)\n",
    "geocode_result.features"
   ]
  },
  {
   "cell_type": "code",
   "execution_count": 10,
   "metadata": {},
   "outputs": [
    {
     "data": {
      "application/vnd.jupyter.widget-view+json": {
       "model_id": "c2aab2078bcb48ab850f3bd2a163e572",
       "version_major": 2,
       "version_minor": 0
      },
      "text/plain": [
       "MapView(layout=Layout(height='400px', width='100%'))"
      ]
     },
     "metadata": {},
     "output_type": "display_data"
    },
    {
     "data": {
      "text/html": [
       "<div class=\"map-static-img-preview-7933ffef-d7c0-4879-b4a9-abac2f89a88f\"><img src=\"\"></img></div>"
      ],
      "text/plain": [
       "<IPython.core.display.HTML object>"
      ]
     },
     "metadata": {},
     "output_type": "display_data"
    },
    {
     "data": {
      "text/html": [
       "<div class=\"map-html-embed-preview-7933ffef-d7c0-4879-b4a9-abac2f89a88f\"></div>"
      ],
      "text/plain": [
       "<IPython.core.display.HTML object>"
      ]
     },
     "metadata": {},
     "output_type": "display_data"
    }
   ],
   "source": [
    "map = gis.map(\"berlin Germany\", zoomlevel=11)\n",
    "map"
   ]
  },
  {
   "cell_type": "code",
   "execution_count": 11,
   "metadata": {},
   "outputs": [],
   "source": [
    "map.draw(geocode_result)"
   ]
  },
  {
   "cell_type": "markdown",
   "metadata": {},
   "source": [
    "## Reverse geocode"
   ]
  },
  {
   "cell_type": "code",
   "execution_count": 20,
   "metadata": {},
   "outputs": [],
   "source": [
    "from arcgis.geometry import Point\n",
    "location = {\n",
    "    'Y': 52.51424000000008,\n",
    "    'X': 13.41490995556606,\n",
    "    'spatialReference': {\n",
    "        'wkid':4326\n",
    "    }\n",
    "}\n",
    "\n",
    "unknown_pt = Point(location)"
   ]
  },
  {
   "cell_type": "code",
   "execution_count": 21,
   "metadata": {},
   "outputs": [
    {
     "data": {
      "text/plain": [
       "{'address': {'Match_addr': 'Wallstraße 55-55, 10179, Berlin, Mitte, Berlin',\n",
       "  'LongLabel': 'Wallstraße 55-55, 10179, Berlin, Mitte, Berlin, DEU',\n",
       "  'ShortLabel': 'Wallstraße 55-55',\n",
       "  'Addr_type': 'StreetAddress',\n",
       "  'Type': '',\n",
       "  'PlaceName': '',\n",
       "  'AddNum': '55',\n",
       "  'Address': 'Wallstraße 55',\n",
       "  'Block': '',\n",
       "  'Sector': '',\n",
       "  'Neighborhood': '',\n",
       "  'District': 'Mitte',\n",
       "  'City': 'Berlin',\n",
       "  'MetroArea': '',\n",
       "  'Subregion': 'Berlin',\n",
       "  'Region': 'Berlin',\n",
       "  'RegionAbbr': 'BE',\n",
       "  'Territory': '',\n",
       "  'Postal': '10179',\n",
       "  'PostalExt': '',\n",
       "  'CntryName': 'Deutschland',\n",
       "  'CountryCode': 'DEU'},\n",
       " 'location': {'x': 13.414956024741045,\n",
       "  'y': 52.51419344513691,\n",
       "  'spatialReference': {'wkid': 4326, 'latestWkid': 4326}}}"
      ]
     },
     "execution_count": 21,
     "metadata": {},
     "output_type": "execute_result"
    }
   ],
   "source": [
    "address = reverse_geocode(unknown_pt)\n",
    "address"
   ]
  },
  {
   "cell_type": "code",
   "execution_count": 22,
   "metadata": {},
   "outputs": [],
   "source": [
    "map.draw(address)"
   ]
  }
 ],
 "metadata": {
  "kernelspec": {
   "display_name": "Python 3.9.11 64-bit",
   "language": "python",
   "name": "python3"
  },
  "language_info": {
   "codemirror_mode": {
    "name": "ipython",
    "version": 3
   },
   "file_extension": ".py",
   "mimetype": "text/x-python",
   "name": "python",
   "nbconvert_exporter": "python",
   "pygments_lexer": "ipython3",
   "version": "3.9.11"
  },
  "vscode": {
   "interpreter": {
    "hash": "fe8c5fb7e40788822c7f73d608ac244ced829a0e6d44553add5504e0489f009a"
   }
  }
 },
 "nbformat": 4,
 "nbformat_minor": 2
}
