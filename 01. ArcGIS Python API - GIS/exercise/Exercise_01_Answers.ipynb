{
 "cells": [
  {
   "cell_type": "markdown",
   "metadata": {},
   "source": [
    "## Lesson 1 Exercise"
   ]
  },
  {
   "cell_type": "markdown",
   "metadata": {},
   "source": [
    "1. How do you import the `GIS` class?"
   ]
  },
  {
   "cell_type": "code",
   "execution_count": null,
   "metadata": {},
   "outputs": [],
   "source": [
    "from arcgis.gis import GIS"
   ]
  },
  {
   "cell_type": "markdown",
   "metadata": {},
   "source": [
    "2. Login to your enterprise or GIS and create a profile."
   ]
  },
  {
   "cell_type": "code",
   "execution_count": null,
   "metadata": {},
   "outputs": [],
   "source": [
    "username = \"\"\n",
    "password = \"\"\n",
    "url = \"\"\n",
    "gis = GIS(url=url, \n",
    "          username=username, \n",
    "          password=password,\n",
    "          profile='your_online_profile')"
   ]
  },
  {
   "cell_type": "markdown",
   "metadata": {},
   "source": [
    "3. Search for the following content:\n",
    "\n",
    "    - A Feature Layer titled `Europe NUTS 1 Demographics`\n",
    "    - An Item with ID: 6ca13d3bddd34ab3b1913b393c4a7c70\n",
    "   "
   ]
  },
  {
   "cell_type": "code",
   "execution_count": null,
   "metadata": {},
   "outputs": [],
   "source": [
    "# Insert code here\n",
    "gis = GIS(profile='your_online_profile')\n",
    "europe_nuts = gis.content.search(\"title:'Europe NUTS 1 Demographics'\", outside_org=True)[0]\n",
    "europe_nuts"
   ]
  },
  {
   "cell_type": "code",
   "execution_count": null,
   "metadata": {},
   "outputs": [],
   "source": [
    "italy_item = gis.content.get(\"6ca13d3bddd34ab3b1913b393c4a7c70\")\n",
    "italy_item"
   ]
  },
  {
   "cell_type": "markdown",
   "metadata": {},
   "source": [
    "4. Add the two `Items` above to a webmap.\n",
    "\n",
    "    - Add each item\n",
    "    - change the basemap\n",
    "    - display the legend\n",
    "    - ensure the extent is properly set before displaying to the `Europe`"
   ]
  },
  {
   "cell_type": "code",
   "execution_count": null,
   "metadata": {},
   "outputs": [],
   "source": [
    "# Insert Code here\n",
    "m = gis.map('Europe')\n",
    "m.extent = {'spatialReference': {'latestWkid': 3857, 'wkid': 102100},\n",
    " 'xmin': -1572730.632078419,\n",
    " 'ymin': 3966693.9687210396,\n",
    " 'xmax': 4415040.415667556,\n",
    " 'ymax': 7880269.816921024}\n",
    "m"
   ]
  },
  {
   "cell_type": "code",
   "execution_count": null,
   "metadata": {},
   "outputs": [],
   "source": [
    "m.add_layer(europe_nuts)\n",
    "m.add_layer(italy_item)"
   ]
  },
  {
   "cell_type": "code",
   "execution_count": null,
   "metadata": {},
   "outputs": [],
   "source": [
    "m.basemap = m.basemaps[5]"
   ]
  },
  {
   "cell_type": "code",
   "execution_count": null,
   "metadata": {},
   "outputs": [],
   "source": [
    "m.legend = True"
   ]
  },
  {
   "cell_type": "code",
   "execution_count": null,
   "metadata": {},
   "outputs": [],
   "source": [
    "m.extent"
   ]
  }
 ],
 "metadata": {
  "kernelspec": {
   "display_name": "Python 3.9.11 64-bit",
   "language": "python",
   "name": "python3"
  },
  "language_info": {
   "codemirror_mode": {
    "name": "ipython",
    "version": 3
   },
   "file_extension": ".py",
   "mimetype": "text/x-python",
   "name": "python",
   "nbconvert_exporter": "python",
   "pygments_lexer": "ipython3",
   "version": "3.9.11"
  },
  "vscode": {
   "interpreter": {
    "hash": "fe8c5fb7e40788822c7f73d608ac244ced829a0e6d44553add5504e0489f009a"
   }
  }
 },
 "nbformat": 4,
 "nbformat_minor": 2
}
